{
 "cells": [
  {
   "cell_type": "markdown",
   "metadata": {},
   "source": [
    "#### What’s in the Telco Customer Churn data set?\n",
    "\n",
    "Using Customer Behavior Data to Improve Customer Retention.\n",
    "\n",
    "This data set provides info to help you predict behavior to retain customers. You can analyze all relevant customer data and develop focused customer retention programs.\n",
    "\n",
    "A telecommunications company is concerned about the number of customers leaving their landline business for cable competitors. They need to understand who is leaving. Imagine that you’re an analyst at this company and you have to find out who is leaving and why.\n",
    "\n",
    "The data set includes information about:\n",
    "\n",
    "Customers who left within the last month – the column is called Churn\n",
    "Services that each customer has signed up for – phone, multiple lines, internet, online security, online backup, device protection, tech support, and streaming TV and movies\n",
    "Customer account information – how long they’ve been a customer, contract, payment method, paperless billing, monthly charges, and total charges\n",
    "Demographic info about customers – gender, age range, and if they have partners and dependents"
   ]
  },
  {
   "cell_type": "code",
   "execution_count": 18,
   "metadata": {},
   "outputs": [],
   "source": [
    "import numpy as np\n",
    "import pandas as pd\n",
    "import matplotlib.pyplot as plt\n",
    "import seaborn as sns\n",
    "from sklearn.linear_model import LogisticRegression\n",
    "from sklearn import metrics\n",
    "from sklearn.cross_validation import train_test_split\n",
    "from sklearn import preprocessing\n",
    "%matplotlib inline"
   ]
  },
  {
   "cell_type": "code",
   "execution_count": 19,
   "metadata": {},
   "outputs": [],
   "source": [
    "from IPython.core.interactiveshell import InteractiveShell\n",
    "InteractiveShell.ast_node_interactivity = 'all'"
   ]
  },
  {
   "cell_type": "code",
   "execution_count": 20,
   "metadata": {},
   "outputs": [
    {
     "data": {
      "text/html": [
       "<div>\n",
       "<style scoped>\n",
       "    .dataframe tbody tr th:only-of-type {\n",
       "        vertical-align: middle;\n",
       "    }\n",
       "\n",
       "    .dataframe tbody tr th {\n",
       "        vertical-align: top;\n",
       "    }\n",
       "\n",
       "    .dataframe thead th {\n",
       "        text-align: right;\n",
       "    }\n",
       "</style>\n",
       "<table border=\"1\" class=\"dataframe\">\n",
       "  <thead>\n",
       "    <tr style=\"text-align: right;\">\n",
       "      <th></th>\n",
       "      <th>customerID</th>\n",
       "      <th>gender</th>\n",
       "      <th>SeniorCitizen</th>\n",
       "      <th>Partner</th>\n",
       "      <th>Dependents</th>\n",
       "      <th>tenure</th>\n",
       "      <th>PhoneService</th>\n",
       "      <th>MultipleLines</th>\n",
       "      <th>InternetService</th>\n",
       "      <th>OnlineSecurity</th>\n",
       "      <th>...</th>\n",
       "      <th>DeviceProtection</th>\n",
       "      <th>TechSupport</th>\n",
       "      <th>StreamingTV</th>\n",
       "      <th>StreamingMovies</th>\n",
       "      <th>Contract</th>\n",
       "      <th>PaperlessBilling</th>\n",
       "      <th>PaymentMethod</th>\n",
       "      <th>MonthlyCharges</th>\n",
       "      <th>TotalCharges</th>\n",
       "      <th>Churn</th>\n",
       "    </tr>\n",
       "  </thead>\n",
       "  <tbody>\n",
       "    <tr>\n",
       "      <th>5454</th>\n",
       "      <td>2506-TNFCO</td>\n",
       "      <td>Female</td>\n",
       "      <td>1</td>\n",
       "      <td>Yes</td>\n",
       "      <td>No</td>\n",
       "      <td>1</td>\n",
       "      <td>Yes</td>\n",
       "      <td>No</td>\n",
       "      <td>Fiber optic</td>\n",
       "      <td>No</td>\n",
       "      <td>...</td>\n",
       "      <td>No</td>\n",
       "      <td>No</td>\n",
       "      <td>No</td>\n",
       "      <td>No</td>\n",
       "      <td>Month-to-month</td>\n",
       "      <td>Yes</td>\n",
       "      <td>Electronic check</td>\n",
       "      <td>69.55</td>\n",
       "      <td>69.55</td>\n",
       "      <td>Yes</td>\n",
       "    </tr>\n",
       "    <tr>\n",
       "      <th>5398</th>\n",
       "      <td>3936-QQFLL</td>\n",
       "      <td>Male</td>\n",
       "      <td>0</td>\n",
       "      <td>No</td>\n",
       "      <td>No</td>\n",
       "      <td>2</td>\n",
       "      <td>Yes</td>\n",
       "      <td>No</td>\n",
       "      <td>No</td>\n",
       "      <td>No internet service</td>\n",
       "      <td>...</td>\n",
       "      <td>No internet service</td>\n",
       "      <td>No internet service</td>\n",
       "      <td>No internet service</td>\n",
       "      <td>No internet service</td>\n",
       "      <td>Month-to-month</td>\n",
       "      <td>No</td>\n",
       "      <td>Mailed check</td>\n",
       "      <td>19.75</td>\n",
       "      <td>39.3</td>\n",
       "      <td>No</td>\n",
       "    </tr>\n",
       "    <tr>\n",
       "      <th>5364</th>\n",
       "      <td>9050-QLROH</td>\n",
       "      <td>Male</td>\n",
       "      <td>0</td>\n",
       "      <td>No</td>\n",
       "      <td>No</td>\n",
       "      <td>18</td>\n",
       "      <td>Yes</td>\n",
       "      <td>Yes</td>\n",
       "      <td>Fiber optic</td>\n",
       "      <td>No</td>\n",
       "      <td>...</td>\n",
       "      <td>Yes</td>\n",
       "      <td>No</td>\n",
       "      <td>No</td>\n",
       "      <td>Yes</td>\n",
       "      <td>Month-to-month</td>\n",
       "      <td>Yes</td>\n",
       "      <td>Credit card (automatic)</td>\n",
       "      <td>90.70</td>\n",
       "      <td>1597.25</td>\n",
       "      <td>Yes</td>\n",
       "    </tr>\n",
       "    <tr>\n",
       "      <th>3370</th>\n",
       "      <td>5307-UVGNB</td>\n",
       "      <td>Female</td>\n",
       "      <td>0</td>\n",
       "      <td>Yes</td>\n",
       "      <td>Yes</td>\n",
       "      <td>53</td>\n",
       "      <td>No</td>\n",
       "      <td>No phone service</td>\n",
       "      <td>DSL</td>\n",
       "      <td>Yes</td>\n",
       "      <td>...</td>\n",
       "      <td>Yes</td>\n",
       "      <td>No</td>\n",
       "      <td>No</td>\n",
       "      <td>Yes</td>\n",
       "      <td>Month-to-month</td>\n",
       "      <td>Yes</td>\n",
       "      <td>Bank transfer (automatic)</td>\n",
       "      <td>48.70</td>\n",
       "      <td>2495.2</td>\n",
       "      <td>No</td>\n",
       "    </tr>\n",
       "    <tr>\n",
       "      <th>813</th>\n",
       "      <td>3551-GAEGL</td>\n",
       "      <td>Male</td>\n",
       "      <td>0</td>\n",
       "      <td>Yes</td>\n",
       "      <td>Yes</td>\n",
       "      <td>34</td>\n",
       "      <td>No</td>\n",
       "      <td>No phone service</td>\n",
       "      <td>DSL</td>\n",
       "      <td>Yes</td>\n",
       "      <td>...</td>\n",
       "      <td>No</td>\n",
       "      <td>No</td>\n",
       "      <td>No</td>\n",
       "      <td>No</td>\n",
       "      <td>One year</td>\n",
       "      <td>No</td>\n",
       "      <td>Bank transfer (automatic)</td>\n",
       "      <td>30.40</td>\n",
       "      <td>938.65</td>\n",
       "      <td>No</td>\n",
       "    </tr>\n",
       "  </tbody>\n",
       "</table>\n",
       "<p>5 rows × 21 columns</p>\n",
       "</div>"
      ],
      "text/plain": [
       "      customerID  gender  SeniorCitizen Partner Dependents  tenure  \\\n",
       "5454  2506-TNFCO  Female              1     Yes         No       1   \n",
       "5398  3936-QQFLL    Male              0      No         No       2   \n",
       "5364  9050-QLROH    Male              0      No         No      18   \n",
       "3370  5307-UVGNB  Female              0     Yes        Yes      53   \n",
       "813   3551-GAEGL    Male              0     Yes        Yes      34   \n",
       "\n",
       "     PhoneService     MultipleLines InternetService       OnlineSecurity  \\\n",
       "5454          Yes                No     Fiber optic                   No   \n",
       "5398          Yes                No              No  No internet service   \n",
       "5364          Yes               Yes     Fiber optic                   No   \n",
       "3370           No  No phone service             DSL                  Yes   \n",
       "813            No  No phone service             DSL                  Yes   \n",
       "\n",
       "      ...      DeviceProtection          TechSupport          StreamingTV  \\\n",
       "5454  ...                    No                   No                   No   \n",
       "5398  ...   No internet service  No internet service  No internet service   \n",
       "5364  ...                   Yes                   No                   No   \n",
       "3370  ...                   Yes                   No                   No   \n",
       "813   ...                    No                   No                   No   \n",
       "\n",
       "          StreamingMovies        Contract PaperlessBilling  \\\n",
       "5454                   No  Month-to-month              Yes   \n",
       "5398  No internet service  Month-to-month               No   \n",
       "5364                  Yes  Month-to-month              Yes   \n",
       "3370                  Yes  Month-to-month              Yes   \n",
       "813                    No        One year               No   \n",
       "\n",
       "                  PaymentMethod MonthlyCharges  TotalCharges Churn  \n",
       "5454           Electronic check          69.55         69.55   Yes  \n",
       "5398               Mailed check          19.75          39.3    No  \n",
       "5364    Credit card (automatic)          90.70       1597.25   Yes  \n",
       "3370  Bank transfer (automatic)          48.70        2495.2    No  \n",
       "813   Bank transfer (automatic)          30.40        938.65    No  \n",
       "\n",
       "[5 rows x 21 columns]"
      ]
     },
     "execution_count": 20,
     "metadata": {},
     "output_type": "execute_result"
    }
   ],
   "source": [
    "df = pd.read_csv('WA_Fn-UseC_-Telco-Customer-Churn.csv')\n",
    "df.sample(5)"
   ]
  },
  {
   "cell_type": "code",
   "execution_count": 21,
   "metadata": {},
   "outputs": [
    {
     "data": {
      "text/plain": [
       "(7043, 21)"
      ]
     },
     "execution_count": 21,
     "metadata": {},
     "output_type": "execute_result"
    }
   ],
   "source": [
    "df.shape"
   ]
  },
  {
   "cell_type": "code",
   "execution_count": 22,
   "metadata": {},
   "outputs": [
    {
     "data": {
      "text/plain": [
       "customerID          False\n",
       "gender              False\n",
       "SeniorCitizen       False\n",
       "Partner             False\n",
       "Dependents          False\n",
       "tenure              False\n",
       "PhoneService        False\n",
       "MultipleLines       False\n",
       "InternetService     False\n",
       "OnlineSecurity      False\n",
       "OnlineBackup        False\n",
       "DeviceProtection    False\n",
       "TechSupport         False\n",
       "StreamingTV         False\n",
       "StreamingMovies     False\n",
       "Contract            False\n",
       "PaperlessBilling    False\n",
       "PaymentMethod       False\n",
       "MonthlyCharges      False\n",
       "TotalCharges        False\n",
       "Churn               False\n",
       "dtype: bool"
      ]
     },
     "execution_count": 22,
     "metadata": {},
     "output_type": "execute_result"
    }
   ],
   "source": [
    "pd.isnull(df).any()"
   ]
  },
  {
   "cell_type": "code",
   "execution_count": 23,
   "metadata": {},
   "outputs": [
    {
     "data": {
      "text/plain": [
       "customerID          0\n",
       "gender              0\n",
       "SeniorCitizen       0\n",
       "Partner             0\n",
       "Dependents          0\n",
       "tenure              0\n",
       "PhoneService        0\n",
       "MultipleLines       0\n",
       "InternetService     0\n",
       "OnlineSecurity      0\n",
       "OnlineBackup        0\n",
       "DeviceProtection    0\n",
       "TechSupport         0\n",
       "StreamingTV         0\n",
       "StreamingMovies     0\n",
       "Contract            0\n",
       "PaperlessBilling    0\n",
       "PaymentMethod       0\n",
       "MonthlyCharges      0\n",
       "TotalCharges        0\n",
       "Churn               0\n",
       "dtype: int64"
      ]
     },
     "execution_count": 23,
     "metadata": {},
     "output_type": "execute_result"
    }
   ],
   "source": [
    "pd.isnull(df).sum()"
   ]
  },
  {
   "cell_type": "code",
   "execution_count": 24,
   "metadata": {},
   "outputs": [
    {
     "data": {
      "text/html": [
       "<div>\n",
       "<style scoped>\n",
       "    .dataframe tbody tr th:only-of-type {\n",
       "        vertical-align: middle;\n",
       "    }\n",
       "\n",
       "    .dataframe tbody tr th {\n",
       "        vertical-align: top;\n",
       "    }\n",
       "\n",
       "    .dataframe thead th {\n",
       "        text-align: right;\n",
       "    }\n",
       "</style>\n",
       "<table border=\"1\" class=\"dataframe\">\n",
       "  <thead>\n",
       "    <tr style=\"text-align: right;\">\n",
       "      <th></th>\n",
       "      <th>SeniorCitizen</th>\n",
       "      <th>tenure</th>\n",
       "      <th>MonthlyCharges</th>\n",
       "    </tr>\n",
       "  </thead>\n",
       "  <tbody>\n",
       "    <tr>\n",
       "      <th>count</th>\n",
       "      <td>7043.000000</td>\n",
       "      <td>7043.000000</td>\n",
       "      <td>7043.000000</td>\n",
       "    </tr>\n",
       "    <tr>\n",
       "      <th>mean</th>\n",
       "      <td>0.162147</td>\n",
       "      <td>32.371149</td>\n",
       "      <td>64.761692</td>\n",
       "    </tr>\n",
       "    <tr>\n",
       "      <th>std</th>\n",
       "      <td>0.368612</td>\n",
       "      <td>24.559481</td>\n",
       "      <td>30.090047</td>\n",
       "    </tr>\n",
       "    <tr>\n",
       "      <th>min</th>\n",
       "      <td>0.000000</td>\n",
       "      <td>0.000000</td>\n",
       "      <td>18.250000</td>\n",
       "    </tr>\n",
       "    <tr>\n",
       "      <th>25%</th>\n",
       "      <td>0.000000</td>\n",
       "      <td>9.000000</td>\n",
       "      <td>35.500000</td>\n",
       "    </tr>\n",
       "    <tr>\n",
       "      <th>50%</th>\n",
       "      <td>0.000000</td>\n",
       "      <td>29.000000</td>\n",
       "      <td>70.350000</td>\n",
       "    </tr>\n",
       "    <tr>\n",
       "      <th>75%</th>\n",
       "      <td>0.000000</td>\n",
       "      <td>55.000000</td>\n",
       "      <td>89.850000</td>\n",
       "    </tr>\n",
       "    <tr>\n",
       "      <th>max</th>\n",
       "      <td>1.000000</td>\n",
       "      <td>72.000000</td>\n",
       "      <td>118.750000</td>\n",
       "    </tr>\n",
       "  </tbody>\n",
       "</table>\n",
       "</div>"
      ],
      "text/plain": [
       "       SeniorCitizen       tenure  MonthlyCharges\n",
       "count    7043.000000  7043.000000     7043.000000\n",
       "mean        0.162147    32.371149       64.761692\n",
       "std         0.368612    24.559481       30.090047\n",
       "min         0.000000     0.000000       18.250000\n",
       "25%         0.000000     9.000000       35.500000\n",
       "50%         0.000000    29.000000       70.350000\n",
       "75%         0.000000    55.000000       89.850000\n",
       "max         1.000000    72.000000      118.750000"
      ]
     },
     "execution_count": 24,
     "metadata": {},
     "output_type": "execute_result"
    }
   ],
   "source": [
    "df.describe()"
   ]
  },
  {
   "cell_type": "code",
   "execution_count": 25,
   "metadata": {},
   "outputs": [
    {
     "data": {
      "text/plain": [
       "No     5174\n",
       "Yes    1869\n",
       "Name: Churn, dtype: int64"
      ]
     },
     "execution_count": 25,
     "metadata": {},
     "output_type": "execute_result"
    }
   ],
   "source": [
    "df['Churn'].value_counts()"
   ]
  },
  {
   "cell_type": "code",
   "execution_count": 27,
   "metadata": {},
   "outputs": [],
   "source": [
    "le = preprocessing.LabelEncoder()"
   ]
  },
  {
   "cell_type": "code",
   "execution_count": 28,
   "metadata": {},
   "outputs": [
    {
     "data": {
      "text/plain": [
       "LabelEncoder()"
      ]
     },
     "execution_count": 28,
     "metadata": {},
     "output_type": "execute_result"
    }
   ],
   "source": [
    "le.fit(df['Churn'])\n",
    "df['Y'] = le.transform(df['Churn'])"
   ]
  },
  {
   "cell_type": "code",
   "execution_count": 30,
   "metadata": {},
   "outputs": [
    {
     "data": {
      "text/html": [
       "<div>\n",
       "<style scoped>\n",
       "    .dataframe tbody tr th:only-of-type {\n",
       "        vertical-align: middle;\n",
       "    }\n",
       "\n",
       "    .dataframe tbody tr th {\n",
       "        vertical-align: top;\n",
       "    }\n",
       "\n",
       "    .dataframe thead th {\n",
       "        text-align: right;\n",
       "    }\n",
       "</style>\n",
       "<table border=\"1\" class=\"dataframe\">\n",
       "  <thead>\n",
       "    <tr style=\"text-align: right;\">\n",
       "      <th></th>\n",
       "      <th>customerID</th>\n",
       "      <th>gender</th>\n",
       "      <th>SeniorCitizen</th>\n",
       "      <th>Partner</th>\n",
       "      <th>Dependents</th>\n",
       "      <th>tenure</th>\n",
       "      <th>PhoneService</th>\n",
       "      <th>MultipleLines</th>\n",
       "      <th>InternetService</th>\n",
       "      <th>OnlineSecurity</th>\n",
       "      <th>...</th>\n",
       "      <th>TechSupport</th>\n",
       "      <th>StreamingTV</th>\n",
       "      <th>StreamingMovies</th>\n",
       "      <th>Contract</th>\n",
       "      <th>PaperlessBilling</th>\n",
       "      <th>PaymentMethod</th>\n",
       "      <th>MonthlyCharges</th>\n",
       "      <th>TotalCharges</th>\n",
       "      <th>Churn</th>\n",
       "      <th>Y</th>\n",
       "    </tr>\n",
       "  </thead>\n",
       "  <tbody>\n",
       "    <tr>\n",
       "      <th>4271</th>\n",
       "      <td>2819-GWENI</td>\n",
       "      <td>Female</td>\n",
       "      <td>0</td>\n",
       "      <td>Yes</td>\n",
       "      <td>Yes</td>\n",
       "      <td>28</td>\n",
       "      <td>Yes</td>\n",
       "      <td>No</td>\n",
       "      <td>No</td>\n",
       "      <td>No internet service</td>\n",
       "      <td>...</td>\n",
       "      <td>No internet service</td>\n",
       "      <td>No internet service</td>\n",
       "      <td>No internet service</td>\n",
       "      <td>One year</td>\n",
       "      <td>No</td>\n",
       "      <td>Mailed check</td>\n",
       "      <td>19.90</td>\n",
       "      <td>543</td>\n",
       "      <td>No</td>\n",
       "      <td>0</td>\n",
       "    </tr>\n",
       "    <tr>\n",
       "      <th>3408</th>\n",
       "      <td>2108-YKQTY</td>\n",
       "      <td>Female</td>\n",
       "      <td>0</td>\n",
       "      <td>No</td>\n",
       "      <td>No</td>\n",
       "      <td>4</td>\n",
       "      <td>Yes</td>\n",
       "      <td>No</td>\n",
       "      <td>DSL</td>\n",
       "      <td>No</td>\n",
       "      <td>...</td>\n",
       "      <td>No</td>\n",
       "      <td>No</td>\n",
       "      <td>No</td>\n",
       "      <td>Month-to-month</td>\n",
       "      <td>No</td>\n",
       "      <td>Credit card (automatic)</td>\n",
       "      <td>50.70</td>\n",
       "      <td>151.3</td>\n",
       "      <td>Yes</td>\n",
       "      <td>1</td>\n",
       "    </tr>\n",
       "    <tr>\n",
       "      <th>1553</th>\n",
       "      <td>7776-QGYJC</td>\n",
       "      <td>Female</td>\n",
       "      <td>0</td>\n",
       "      <td>Yes</td>\n",
       "      <td>Yes</td>\n",
       "      <td>39</td>\n",
       "      <td>Yes</td>\n",
       "      <td>No</td>\n",
       "      <td>Fiber optic</td>\n",
       "      <td>No</td>\n",
       "      <td>...</td>\n",
       "      <td>Yes</td>\n",
       "      <td>No</td>\n",
       "      <td>No</td>\n",
       "      <td>Month-to-month</td>\n",
       "      <td>Yes</td>\n",
       "      <td>Bank transfer (automatic)</td>\n",
       "      <td>81.50</td>\n",
       "      <td>3107.3</td>\n",
       "      <td>No</td>\n",
       "      <td>0</td>\n",
       "    </tr>\n",
       "    <tr>\n",
       "      <th>2762</th>\n",
       "      <td>8929-KSWIH</td>\n",
       "      <td>Male</td>\n",
       "      <td>0</td>\n",
       "      <td>No</td>\n",
       "      <td>No</td>\n",
       "      <td>25</td>\n",
       "      <td>Yes</td>\n",
       "      <td>No</td>\n",
       "      <td>Fiber optic</td>\n",
       "      <td>No</td>\n",
       "      <td>...</td>\n",
       "      <td>Yes</td>\n",
       "      <td>Yes</td>\n",
       "      <td>Yes</td>\n",
       "      <td>Two year</td>\n",
       "      <td>No</td>\n",
       "      <td>Bank transfer (automatic)</td>\n",
       "      <td>99.30</td>\n",
       "      <td>2513.5</td>\n",
       "      <td>No</td>\n",
       "      <td>0</td>\n",
       "    </tr>\n",
       "    <tr>\n",
       "      <th>125</th>\n",
       "      <td>4622-YNKIJ</td>\n",
       "      <td>Male</td>\n",
       "      <td>0</td>\n",
       "      <td>No</td>\n",
       "      <td>No</td>\n",
       "      <td>33</td>\n",
       "      <td>Yes</td>\n",
       "      <td>No</td>\n",
       "      <td>Fiber optic</td>\n",
       "      <td>Yes</td>\n",
       "      <td>...</td>\n",
       "      <td>Yes</td>\n",
       "      <td>Yes</td>\n",
       "      <td>No</td>\n",
       "      <td>Two year</td>\n",
       "      <td>Yes</td>\n",
       "      <td>Electronic check</td>\n",
       "      <td>88.95</td>\n",
       "      <td>3027.65</td>\n",
       "      <td>No</td>\n",
       "      <td>0</td>\n",
       "    </tr>\n",
       "  </tbody>\n",
       "</table>\n",
       "<p>5 rows × 22 columns</p>\n",
       "</div>"
      ],
      "text/plain": [
       "      customerID  gender  SeniorCitizen Partner Dependents  tenure  \\\n",
       "4271  2819-GWENI  Female              0     Yes        Yes      28   \n",
       "3408  2108-YKQTY  Female              0      No         No       4   \n",
       "1553  7776-QGYJC  Female              0     Yes        Yes      39   \n",
       "2762  8929-KSWIH    Male              0      No         No      25   \n",
       "125   4622-YNKIJ    Male              0      No         No      33   \n",
       "\n",
       "     PhoneService MultipleLines InternetService       OnlineSecurity ...  \\\n",
       "4271          Yes            No              No  No internet service ...   \n",
       "3408          Yes            No             DSL                   No ...   \n",
       "1553          Yes            No     Fiber optic                   No ...   \n",
       "2762          Yes            No     Fiber optic                   No ...   \n",
       "125           Yes            No     Fiber optic                  Yes ...   \n",
       "\n",
       "              TechSupport          StreamingTV      StreamingMovies  \\\n",
       "4271  No internet service  No internet service  No internet service   \n",
       "3408                   No                   No                   No   \n",
       "1553                  Yes                   No                   No   \n",
       "2762                  Yes                  Yes                  Yes   \n",
       "125                   Yes                  Yes                   No   \n",
       "\n",
       "            Contract PaperlessBilling              PaymentMethod  \\\n",
       "4271        One year               No               Mailed check   \n",
       "3408  Month-to-month               No    Credit card (automatic)   \n",
       "1553  Month-to-month              Yes  Bank transfer (automatic)   \n",
       "2762        Two year               No  Bank transfer (automatic)   \n",
       "125         Two year              Yes           Electronic check   \n",
       "\n",
       "     MonthlyCharges TotalCharges  Churn  Y  \n",
       "4271          19.90          543     No  0  \n",
       "3408          50.70        151.3    Yes  1  \n",
       "1553          81.50       3107.3     No  0  \n",
       "2762          99.30       2513.5     No  0  \n",
       "125           88.95      3027.65     No  0  \n",
       "\n",
       "[5 rows x 22 columns]"
      ]
     },
     "execution_count": 30,
     "metadata": {},
     "output_type": "execute_result"
    }
   ],
   "source": [
    "df.sample(5)"
   ]
  },
  {
   "cell_type": "code",
   "execution_count": 31,
   "metadata": {},
   "outputs": [
    {
     "data": {
      "text/plain": [
       "array(['No', 'Yes'], dtype=object)"
      ]
     },
     "execution_count": 31,
     "metadata": {},
     "output_type": "execute_result"
    }
   ],
   "source": [
    "le.classes_"
   ]
  },
  {
   "cell_type": "code",
   "execution_count": 35,
   "metadata": {},
   "outputs": [
    {
     "name": "stderr",
     "output_type": "stream",
     "text": [
      "C:\\Users\\NARENDRA\\Anaconda3\\lib\\site-packages\\sklearn\\preprocessing\\label.py:151: DeprecationWarning: The truth value of an empty array is ambiguous. Returning False, but in future this will result in an error. Use `array.size > 0` to check that an array is not empty.\n",
      "  if diff:\n"
     ]
    },
    {
     "data": {
      "text/plain": [
       "array(['Yes', 'No'], dtype=object)"
      ]
     },
     "execution_count": 35,
     "metadata": {},
     "output_type": "execute_result"
    }
   ],
   "source": [
    "le.inverse_transform([1,0])"
   ]
  },
  {
   "cell_type": "code",
   "execution_count": 36,
   "metadata": {},
   "outputs": [
    {
     "data": {
      "text/plain": [
       "Index(['customerID', 'gender', 'SeniorCitizen', 'Partner', 'Dependents',\n",
       "       'tenure', 'PhoneService', 'MultipleLines', 'InternetService',\n",
       "       'OnlineSecurity', 'OnlineBackup', 'DeviceProtection', 'TechSupport',\n",
       "       'StreamingTV', 'StreamingMovies', 'Contract', 'PaperlessBilling',\n",
       "       'PaymentMethod', 'MonthlyCharges', 'TotalCharges', 'Churn', 'Y'],\n",
       "      dtype='object')"
      ]
     },
     "execution_count": 36,
     "metadata": {},
     "output_type": "execute_result"
    }
   ],
   "source": [
    "df.columns"
   ]
  },
  {
   "cell_type": "code",
   "execution_count": 75,
   "metadata": {},
   "outputs": [
    {
     "data": {
      "text/html": [
       "<div>\n",
       "<style scoped>\n",
       "    .dataframe tbody tr th:only-of-type {\n",
       "        vertical-align: middle;\n",
       "    }\n",
       "\n",
       "    .dataframe tbody tr th {\n",
       "        vertical-align: top;\n",
       "    }\n",
       "\n",
       "    .dataframe thead th {\n",
       "        text-align: right;\n",
       "    }\n",
       "</style>\n",
       "<table border=\"1\" class=\"dataframe\">\n",
       "  <thead>\n",
       "    <tr style=\"text-align: right;\">\n",
       "      <th></th>\n",
       "      <th>gender</th>\n",
       "      <th>Partner</th>\n",
       "      <th>Dependents</th>\n",
       "      <th>PhoneService</th>\n",
       "      <th>MultipleLines</th>\n",
       "      <th>InternetService</th>\n",
       "      <th>OnlineSecurity</th>\n",
       "      <th>OnlineBackup</th>\n",
       "      <th>DeviceProtection</th>\n",
       "      <th>TechSupport</th>\n",
       "      <th>StreamingTV</th>\n",
       "      <th>StreamingMovies</th>\n",
       "      <th>Contract</th>\n",
       "      <th>PaperlessBilling</th>\n",
       "      <th>PaymentMethod</th>\n",
       "    </tr>\n",
       "  </thead>\n",
       "  <tbody>\n",
       "    <tr>\n",
       "      <th>1798</th>\n",
       "      <td>Male</td>\n",
       "      <td>No</td>\n",
       "      <td>No</td>\n",
       "      <td>Yes</td>\n",
       "      <td>Yes</td>\n",
       "      <td>No</td>\n",
       "      <td>No internet service</td>\n",
       "      <td>No internet service</td>\n",
       "      <td>No internet service</td>\n",
       "      <td>No internet service</td>\n",
       "      <td>No internet service</td>\n",
       "      <td>No internet service</td>\n",
       "      <td>One year</td>\n",
       "      <td>No</td>\n",
       "      <td>Bank transfer (automatic)</td>\n",
       "    </tr>\n",
       "  </tbody>\n",
       "</table>\n",
       "</div>"
      ],
      "text/plain": [
       "     gender Partner Dependents PhoneService MultipleLines InternetService  \\\n",
       "1798   Male      No         No          Yes           Yes              No   \n",
       "\n",
       "           OnlineSecurity         OnlineBackup     DeviceProtection  \\\n",
       "1798  No internet service  No internet service  No internet service   \n",
       "\n",
       "              TechSupport          StreamingTV      StreamingMovies  Contract  \\\n",
       "1798  No internet service  No internet service  No internet service  One year   \n",
       "\n",
       "     PaperlessBilling              PaymentMethod  \n",
       "1798               No  Bank transfer (automatic)  "
      ]
     },
     "execution_count": 75,
     "metadata": {},
     "output_type": "execute_result"
    },
    {
     "data": {
      "text/plain": [
       "(7043, 15)"
      ]
     },
     "execution_count": 75,
     "metadata": {},
     "output_type": "execute_result"
    }
   ],
   "source": [
    "x_catg = df[['gender', 'Partner', 'Dependents',\n",
    "        'PhoneService', 'MultipleLines', 'InternetService',\n",
    "       'OnlineSecurity', 'OnlineBackup', 'DeviceProtection', 'TechSupport',\n",
    "       'StreamingTV', 'StreamingMovies', 'Contract', 'PaperlessBilling',\n",
    "       'PaymentMethod']]\n",
    "x_catg1 = df[['gender', 'Partner', 'Dependents',\n",
    "        'PhoneService', 'MultipleLines', 'InternetService',\n",
    "       'OnlineSecurity', 'OnlineBackup', 'DeviceProtection', 'TechSupport',\n",
    "       'StreamingTV', 'StreamingMovies', 'Contract', 'PaperlessBilling',\n",
    "       'PaymentMethod']]\n",
    "x_catg.sample()\n",
    "x_catg.shape"
   ]
  },
  {
   "cell_type": "code",
   "execution_count": 102,
   "metadata": {},
   "outputs": [
    {
     "name": "stdout",
     "output_type": "stream",
     "text": [
      "<class 'pandas.core.frame.DataFrame'>\n",
      "RangeIndex: 7043 entries, 0 to 7042\n",
      "Data columns (total 4 columns):\n",
      "SeniorCitizen     7043 non-null int64\n",
      "tenure            7043 non-null int64\n",
      "MonthlyCharges    7043 non-null float64\n",
      "TotalCharges      7043 non-null float64\n",
      "dtypes: float64(2), int64(2)\n",
      "memory usage: 220.2 KB\n"
     ]
    }
   ],
   "source": [
    "df['TotalCharges'] = pd.to_numeric(df['TotalCharges'],errors='coerce').fillna(0)\n",
    "x_num = df.loc[:,['SeniorCitizen','tenure','MonthlyCharges','TotalCharges']]\n",
    "x_num.info()"
   ]
  },
  {
   "cell_type": "code",
   "execution_count": 77,
   "metadata": {},
   "outputs": [
    {
     "data": {
      "text/plain": [
       "pandas.core.frame.DataFrame"
      ]
     },
     "execution_count": 77,
     "metadata": {},
     "output_type": "execute_result"
    },
    {
     "data": {
      "text/html": [
       "<div>\n",
       "<style scoped>\n",
       "    .dataframe tbody tr th:only-of-type {\n",
       "        vertical-align: middle;\n",
       "    }\n",
       "\n",
       "    .dataframe tbody tr th {\n",
       "        vertical-align: top;\n",
       "    }\n",
       "\n",
       "    .dataframe thead th {\n",
       "        text-align: right;\n",
       "    }\n",
       "</style>\n",
       "<table border=\"1\" class=\"dataframe\">\n",
       "  <thead>\n",
       "    <tr style=\"text-align: right;\">\n",
       "      <th></th>\n",
       "      <th>SeniorCitizen</th>\n",
       "      <th>tenure</th>\n",
       "      <th>MonthlyCharges</th>\n",
       "      <th>TotalCharges</th>\n",
       "    </tr>\n",
       "  </thead>\n",
       "  <tbody>\n",
       "    <tr>\n",
       "      <th>0</th>\n",
       "      <td>0</td>\n",
       "      <td>1</td>\n",
       "      <td>29.85</td>\n",
       "      <td>29.85</td>\n",
       "    </tr>\n",
       "    <tr>\n",
       "      <th>1</th>\n",
       "      <td>0</td>\n",
       "      <td>34</td>\n",
       "      <td>56.95</td>\n",
       "      <td>1889.5</td>\n",
       "    </tr>\n",
       "    <tr>\n",
       "      <th>2</th>\n",
       "      <td>0</td>\n",
       "      <td>2</td>\n",
       "      <td>53.85</td>\n",
       "      <td>108.15</td>\n",
       "    </tr>\n",
       "    <tr>\n",
       "      <th>3</th>\n",
       "      <td>0</td>\n",
       "      <td>45</td>\n",
       "      <td>42.30</td>\n",
       "      <td>1840.75</td>\n",
       "    </tr>\n",
       "    <tr>\n",
       "      <th>4</th>\n",
       "      <td>0</td>\n",
       "      <td>2</td>\n",
       "      <td>70.70</td>\n",
       "      <td>151.65</td>\n",
       "    </tr>\n",
       "  </tbody>\n",
       "</table>\n",
       "</div>"
      ],
      "text/plain": [
       "   SeniorCitizen  tenure  MonthlyCharges TotalCharges\n",
       "0              0       1           29.85        29.85\n",
       "1              0      34           56.95       1889.5\n",
       "2              0       2           53.85       108.15\n",
       "3              0      45           42.30      1840.75\n",
       "4              0       2           70.70       151.65"
      ]
     },
     "execution_count": 77,
     "metadata": {},
     "output_type": "execute_result"
    },
    {
     "data": {
      "text/plain": [
       "(7043, 4)"
      ]
     },
     "execution_count": 77,
     "metadata": {},
     "output_type": "execute_result"
    }
   ],
   "source": [
    "type(x_num)\n",
    "x_num.head()\n",
    "x_num.shape"
   ]
  },
  {
   "cell_type": "code",
   "execution_count": 79,
   "metadata": {},
   "outputs": [
    {
     "data": {
      "text/plain": [
       "LabelEncoder()"
      ]
     },
     "execution_count": 79,
     "metadata": {},
     "output_type": "execute_result"
    },
    {
     "name": "stderr",
     "output_type": "stream",
     "text": [
      "C:\\Users\\NARENDRA\\Anaconda3\\lib\\site-packages\\ipykernel_launcher.py:2: SettingWithCopyWarning: \n",
      "A value is trying to be set on a copy of a slice from a DataFrame.\n",
      "Try using .loc[row_indexer,col_indexer] = value instead\n",
      "\n",
      "See the caveats in the documentation: http://pandas.pydata.org/pandas-docs/stable/indexing.html#indexing-view-versus-copy\n",
      "  \n"
     ]
    },
    {
     "data": {
      "text/plain": [
       "LabelEncoder()"
      ]
     },
     "execution_count": 79,
     "metadata": {},
     "output_type": "execute_result"
    },
    {
     "name": "stderr",
     "output_type": "stream",
     "text": [
      "C:\\Users\\NARENDRA\\Anaconda3\\lib\\site-packages\\ipykernel_launcher.py:4: SettingWithCopyWarning: \n",
      "A value is trying to be set on a copy of a slice from a DataFrame.\n",
      "Try using .loc[row_indexer,col_indexer] = value instead\n",
      "\n",
      "See the caveats in the documentation: http://pandas.pydata.org/pandas-docs/stable/indexing.html#indexing-view-versus-copy\n",
      "  after removing the cwd from sys.path.\n"
     ]
    },
    {
     "data": {
      "text/plain": [
       "LabelEncoder()"
      ]
     },
     "execution_count": 79,
     "metadata": {},
     "output_type": "execute_result"
    },
    {
     "name": "stderr",
     "output_type": "stream",
     "text": [
      "C:\\Users\\NARENDRA\\Anaconda3\\lib\\site-packages\\ipykernel_launcher.py:6: SettingWithCopyWarning: \n",
      "A value is trying to be set on a copy of a slice from a DataFrame.\n",
      "Try using .loc[row_indexer,col_indexer] = value instead\n",
      "\n",
      "See the caveats in the documentation: http://pandas.pydata.org/pandas-docs/stable/indexing.html#indexing-view-versus-copy\n",
      "  \n"
     ]
    },
    {
     "data": {
      "text/plain": [
       "LabelEncoder()"
      ]
     },
     "execution_count": 79,
     "metadata": {},
     "output_type": "execute_result"
    },
    {
     "name": "stderr",
     "output_type": "stream",
     "text": [
      "C:\\Users\\NARENDRA\\Anaconda3\\lib\\site-packages\\ipykernel_launcher.py:8: SettingWithCopyWarning: \n",
      "A value is trying to be set on a copy of a slice from a DataFrame.\n",
      "Try using .loc[row_indexer,col_indexer] = value instead\n",
      "\n",
      "See the caveats in the documentation: http://pandas.pydata.org/pandas-docs/stable/indexing.html#indexing-view-versus-copy\n",
      "  \n"
     ]
    },
    {
     "data": {
      "text/plain": [
       "LabelEncoder()"
      ]
     },
     "execution_count": 79,
     "metadata": {},
     "output_type": "execute_result"
    },
    {
     "name": "stderr",
     "output_type": "stream",
     "text": [
      "C:\\Users\\NARENDRA\\Anaconda3\\lib\\site-packages\\ipykernel_launcher.py:10: SettingWithCopyWarning: \n",
      "A value is trying to be set on a copy of a slice from a DataFrame.\n",
      "Try using .loc[row_indexer,col_indexer] = value instead\n",
      "\n",
      "See the caveats in the documentation: http://pandas.pydata.org/pandas-docs/stable/indexing.html#indexing-view-versus-copy\n",
      "  # Remove the CWD from sys.path while we load stuff.\n"
     ]
    },
    {
     "data": {
      "text/plain": [
       "LabelEncoder()"
      ]
     },
     "execution_count": 79,
     "metadata": {},
     "output_type": "execute_result"
    },
    {
     "name": "stderr",
     "output_type": "stream",
     "text": [
      "C:\\Users\\NARENDRA\\Anaconda3\\lib\\site-packages\\ipykernel_launcher.py:12: SettingWithCopyWarning: \n",
      "A value is trying to be set on a copy of a slice from a DataFrame.\n",
      "Try using .loc[row_indexer,col_indexer] = value instead\n",
      "\n",
      "See the caveats in the documentation: http://pandas.pydata.org/pandas-docs/stable/indexing.html#indexing-view-versus-copy\n",
      "  if sys.path[0] == '':\n"
     ]
    },
    {
     "data": {
      "text/plain": [
       "LabelEncoder()"
      ]
     },
     "execution_count": 79,
     "metadata": {},
     "output_type": "execute_result"
    },
    {
     "name": "stderr",
     "output_type": "stream",
     "text": [
      "C:\\Users\\NARENDRA\\Anaconda3\\lib\\site-packages\\ipykernel_launcher.py:14: SettingWithCopyWarning: \n",
      "A value is trying to be set on a copy of a slice from a DataFrame.\n",
      "Try using .loc[row_indexer,col_indexer] = value instead\n",
      "\n",
      "See the caveats in the documentation: http://pandas.pydata.org/pandas-docs/stable/indexing.html#indexing-view-versus-copy\n",
      "  \n"
     ]
    },
    {
     "data": {
      "text/plain": [
       "LabelEncoder()"
      ]
     },
     "execution_count": 79,
     "metadata": {},
     "output_type": "execute_result"
    },
    {
     "name": "stderr",
     "output_type": "stream",
     "text": [
      "C:\\Users\\NARENDRA\\Anaconda3\\lib\\site-packages\\ipykernel_launcher.py:16: SettingWithCopyWarning: \n",
      "A value is trying to be set on a copy of a slice from a DataFrame.\n",
      "Try using .loc[row_indexer,col_indexer] = value instead\n",
      "\n",
      "See the caveats in the documentation: http://pandas.pydata.org/pandas-docs/stable/indexing.html#indexing-view-versus-copy\n",
      "  app.launch_new_instance()\n"
     ]
    },
    {
     "data": {
      "text/plain": [
       "LabelEncoder()"
      ]
     },
     "execution_count": 79,
     "metadata": {},
     "output_type": "execute_result"
    },
    {
     "name": "stderr",
     "output_type": "stream",
     "text": [
      "C:\\Users\\NARENDRA\\Anaconda3\\lib\\site-packages\\ipykernel_launcher.py:18: SettingWithCopyWarning: \n",
      "A value is trying to be set on a copy of a slice from a DataFrame.\n",
      "Try using .loc[row_indexer,col_indexer] = value instead\n",
      "\n",
      "See the caveats in the documentation: http://pandas.pydata.org/pandas-docs/stable/indexing.html#indexing-view-versus-copy\n"
     ]
    },
    {
     "data": {
      "text/plain": [
       "LabelEncoder()"
      ]
     },
     "execution_count": 79,
     "metadata": {},
     "output_type": "execute_result"
    },
    {
     "name": "stderr",
     "output_type": "stream",
     "text": [
      "C:\\Users\\NARENDRA\\Anaconda3\\lib\\site-packages\\ipykernel_launcher.py:20: SettingWithCopyWarning: \n",
      "A value is trying to be set on a copy of a slice from a DataFrame.\n",
      "Try using .loc[row_indexer,col_indexer] = value instead\n",
      "\n",
      "See the caveats in the documentation: http://pandas.pydata.org/pandas-docs/stable/indexing.html#indexing-view-versus-copy\n"
     ]
    },
    {
     "data": {
      "text/plain": [
       "LabelEncoder()"
      ]
     },
     "execution_count": 79,
     "metadata": {},
     "output_type": "execute_result"
    },
    {
     "name": "stderr",
     "output_type": "stream",
     "text": [
      "C:\\Users\\NARENDRA\\Anaconda3\\lib\\site-packages\\ipykernel_launcher.py:22: SettingWithCopyWarning: \n",
      "A value is trying to be set on a copy of a slice from a DataFrame.\n",
      "Try using .loc[row_indexer,col_indexer] = value instead\n",
      "\n",
      "See the caveats in the documentation: http://pandas.pydata.org/pandas-docs/stable/indexing.html#indexing-view-versus-copy\n"
     ]
    },
    {
     "data": {
      "text/plain": [
       "LabelEncoder()"
      ]
     },
     "execution_count": 79,
     "metadata": {},
     "output_type": "execute_result"
    },
    {
     "name": "stderr",
     "output_type": "stream",
     "text": [
      "C:\\Users\\NARENDRA\\Anaconda3\\lib\\site-packages\\ipykernel_launcher.py:24: SettingWithCopyWarning: \n",
      "A value is trying to be set on a copy of a slice from a DataFrame.\n",
      "Try using .loc[row_indexer,col_indexer] = value instead\n",
      "\n",
      "See the caveats in the documentation: http://pandas.pydata.org/pandas-docs/stable/indexing.html#indexing-view-versus-copy\n"
     ]
    },
    {
     "data": {
      "text/plain": [
       "LabelEncoder()"
      ]
     },
     "execution_count": 79,
     "metadata": {},
     "output_type": "execute_result"
    },
    {
     "name": "stderr",
     "output_type": "stream",
     "text": [
      "C:\\Users\\NARENDRA\\Anaconda3\\lib\\site-packages\\ipykernel_launcher.py:26: SettingWithCopyWarning: \n",
      "A value is trying to be set on a copy of a slice from a DataFrame.\n",
      "Try using .loc[row_indexer,col_indexer] = value instead\n",
      "\n",
      "See the caveats in the documentation: http://pandas.pydata.org/pandas-docs/stable/indexing.html#indexing-view-versus-copy\n"
     ]
    },
    {
     "data": {
      "text/plain": [
       "LabelEncoder()"
      ]
     },
     "execution_count": 79,
     "metadata": {},
     "output_type": "execute_result"
    },
    {
     "name": "stderr",
     "output_type": "stream",
     "text": [
      "C:\\Users\\NARENDRA\\Anaconda3\\lib\\site-packages\\ipykernel_launcher.py:28: SettingWithCopyWarning: \n",
      "A value is trying to be set on a copy of a slice from a DataFrame.\n",
      "Try using .loc[row_indexer,col_indexer] = value instead\n",
      "\n",
      "See the caveats in the documentation: http://pandas.pydata.org/pandas-docs/stable/indexing.html#indexing-view-versus-copy\n"
     ]
    },
    {
     "data": {
      "text/plain": [
       "LabelEncoder()"
      ]
     },
     "execution_count": 79,
     "metadata": {},
     "output_type": "execute_result"
    },
    {
     "name": "stderr",
     "output_type": "stream",
     "text": [
      "C:\\Users\\NARENDRA\\Anaconda3\\lib\\site-packages\\ipykernel_launcher.py:30: SettingWithCopyWarning: \n",
      "A value is trying to be set on a copy of a slice from a DataFrame.\n",
      "Try using .loc[row_indexer,col_indexer] = value instead\n",
      "\n",
      "See the caveats in the documentation: http://pandas.pydata.org/pandas-docs/stable/indexing.html#indexing-view-versus-copy\n"
     ]
    }
   ],
   "source": [
    "le.fit(x_catg['gender'])\n",
    "x_catg['gender'] = le.transform(x_catg['gender'])\n",
    "le.fit(x_catg['Partner'])\n",
    "x_catg['Partner'] = le.transform(x_catg['Partner'])\n",
    "le.fit(x_catg['Dependents'])\n",
    "x_catg['Dependents'] = le.transform(x_catg['Dependents'])\n",
    "le.fit(x_catg['PhoneService'])\n",
    "x_catg['PhoneService'] = le.transform(x_catg['PhoneService'])\n",
    "le.fit(x_catg['MultipleLines'])\n",
    "x_catg['MultipleLines'] = le.transform(x_catg['MultipleLines'])\n",
    "le.fit(x_catg['InternetService'])\n",
    "x_catg['InternetService'] = le.transform(x_catg['InternetService'])\n",
    "le.fit(x_catg['OnlineSecurity'])\n",
    "x_catg['OnlineSecurity'] = le.transform(x_catg['OnlineSecurity'])\n",
    "le.fit(x_catg['OnlineBackup'])\n",
    "x_catg['OnlineBackup'] = le.transform(x_catg['OnlineBackup'])\n",
    "le.fit(x_catg['DeviceProtection'])\n",
    "x_catg['DeviceProtection'] = le.transform(x_catg['DeviceProtection'])\n",
    "le.fit(x_catg['TechSupport'])\n",
    "x_catg['TechSupport'] = le.transform(x_catg['TechSupport'])\n",
    "le.fit(x_catg['StreamingTV'])\n",
    "x_catg['StreamingTV'] = le.transform(x_catg['StreamingTV'])\n",
    "le.fit(x_catg['StreamingMovies'])\n",
    "x_catg['StreamingMovies'] = le.transform(x_catg['StreamingMovies'])\n",
    "le.fit(x_catg['Contract'])\n",
    "x_catg['Contract'] = le.transform(x_catg['Contract'])\n",
    "le.fit(x_catg['PaperlessBilling'])\n",
    "x_catg['PaperlessBilling'] = le.transform(x_catg['PaperlessBilling'])\n",
    "le.fit(x_catg['PaymentMethod'])\n",
    "x_catg['PaymentMethod'] = le.transform(x_catg['PaymentMethod'])\n"
   ]
  },
  {
   "cell_type": "code",
   "execution_count": 80,
   "metadata": {},
   "outputs": [
    {
     "name": "stdout",
     "output_type": "stream",
     "text": [
      "<class 'pandas.core.frame.DataFrame'>\n",
      "RangeIndex: 7043 entries, 0 to 7042\n",
      "Data columns (total 15 columns):\n",
      "gender              7043 non-null int64\n",
      "Partner             7043 non-null int64\n",
      "Dependents          7043 non-null int64\n",
      "PhoneService        7043 non-null int64\n",
      "MultipleLines       7043 non-null int64\n",
      "InternetService     7043 non-null int64\n",
      "OnlineSecurity      7043 non-null int64\n",
      "OnlineBackup        7043 non-null int64\n",
      "DeviceProtection    7043 non-null int64\n",
      "TechSupport         7043 non-null int64\n",
      "StreamingTV         7043 non-null int64\n",
      "StreamingMovies     7043 non-null int64\n",
      "Contract            7043 non-null int64\n",
      "PaperlessBilling    7043 non-null int64\n",
      "PaymentMethod       7043 non-null int64\n",
      "dtypes: int64(15)\n",
      "memory usage: 825.4 KB\n"
     ]
    }
   ],
   "source": [
    "x_catg.info()"
   ]
  },
  {
   "cell_type": "code",
   "execution_count": 81,
   "metadata": {},
   "outputs": [
    {
     "name": "stdout",
     "output_type": "stream",
     "text": [
      "<class 'pandas.core.frame.DataFrame'>\n",
      "RangeIndex: 7043 entries, 0 to 7042\n",
      "Data columns (total 15 columns):\n",
      "gender              7043 non-null object\n",
      "Partner             7043 non-null object\n",
      "Dependents          7043 non-null object\n",
      "PhoneService        7043 non-null object\n",
      "MultipleLines       7043 non-null object\n",
      "InternetService     7043 non-null object\n",
      "OnlineSecurity      7043 non-null object\n",
      "OnlineBackup        7043 non-null object\n",
      "DeviceProtection    7043 non-null object\n",
      "TechSupport         7043 non-null object\n",
      "StreamingTV         7043 non-null object\n",
      "StreamingMovies     7043 non-null object\n",
      "Contract            7043 non-null object\n",
      "PaperlessBilling    7043 non-null object\n",
      "PaymentMethod       7043 non-null object\n",
      "dtypes: object(15)\n",
      "memory usage: 825.4+ KB\n"
     ]
    }
   ],
   "source": [
    "x_catg1.info()"
   ]
  },
  {
   "cell_type": "code",
   "execution_count": 84,
   "metadata": {},
   "outputs": [],
   "source": [
    "x_num1 = pd.get_dummies(x_catg1)"
   ]
  },
  {
   "cell_type": "code",
   "execution_count": 85,
   "metadata": {},
   "outputs": [
    {
     "data": {
      "text/html": [
       "<div>\n",
       "<style scoped>\n",
       "    .dataframe tbody tr th:only-of-type {\n",
       "        vertical-align: middle;\n",
       "    }\n",
       "\n",
       "    .dataframe tbody tr th {\n",
       "        vertical-align: top;\n",
       "    }\n",
       "\n",
       "    .dataframe thead th {\n",
       "        text-align: right;\n",
       "    }\n",
       "</style>\n",
       "<table border=\"1\" class=\"dataframe\">\n",
       "  <thead>\n",
       "    <tr style=\"text-align: right;\">\n",
       "      <th></th>\n",
       "      <th>gender_Female</th>\n",
       "      <th>gender_Male</th>\n",
       "      <th>Partner_No</th>\n",
       "      <th>Partner_Yes</th>\n",
       "      <th>Dependents_No</th>\n",
       "      <th>Dependents_Yes</th>\n",
       "      <th>PhoneService_No</th>\n",
       "      <th>PhoneService_Yes</th>\n",
       "      <th>MultipleLines_No</th>\n",
       "      <th>MultipleLines_No phone service</th>\n",
       "      <th>...</th>\n",
       "      <th>StreamingMovies_Yes</th>\n",
       "      <th>Contract_Month-to-month</th>\n",
       "      <th>Contract_One year</th>\n",
       "      <th>Contract_Two year</th>\n",
       "      <th>PaperlessBilling_No</th>\n",
       "      <th>PaperlessBilling_Yes</th>\n",
       "      <th>PaymentMethod_Bank transfer (automatic)</th>\n",
       "      <th>PaymentMethod_Credit card (automatic)</th>\n",
       "      <th>PaymentMethod_Electronic check</th>\n",
       "      <th>PaymentMethod_Mailed check</th>\n",
       "    </tr>\n",
       "  </thead>\n",
       "  <tbody>\n",
       "    <tr>\n",
       "      <th>3405</th>\n",
       "      <td>1</td>\n",
       "      <td>0</td>\n",
       "      <td>0</td>\n",
       "      <td>1</td>\n",
       "      <td>0</td>\n",
       "      <td>1</td>\n",
       "      <td>0</td>\n",
       "      <td>1</td>\n",
       "      <td>0</td>\n",
       "      <td>0</td>\n",
       "      <td>...</td>\n",
       "      <td>0</td>\n",
       "      <td>1</td>\n",
       "      <td>0</td>\n",
       "      <td>0</td>\n",
       "      <td>0</td>\n",
       "      <td>1</td>\n",
       "      <td>1</td>\n",
       "      <td>0</td>\n",
       "      <td>0</td>\n",
       "      <td>0</td>\n",
       "    </tr>\n",
       "    <tr>\n",
       "      <th>2295</th>\n",
       "      <td>0</td>\n",
       "      <td>1</td>\n",
       "      <td>1</td>\n",
       "      <td>0</td>\n",
       "      <td>1</td>\n",
       "      <td>0</td>\n",
       "      <td>1</td>\n",
       "      <td>0</td>\n",
       "      <td>0</td>\n",
       "      <td>1</td>\n",
       "      <td>...</td>\n",
       "      <td>0</td>\n",
       "      <td>1</td>\n",
       "      <td>0</td>\n",
       "      <td>0</td>\n",
       "      <td>0</td>\n",
       "      <td>1</td>\n",
       "      <td>0</td>\n",
       "      <td>0</td>\n",
       "      <td>1</td>\n",
       "      <td>0</td>\n",
       "    </tr>\n",
       "    <tr>\n",
       "      <th>1992</th>\n",
       "      <td>1</td>\n",
       "      <td>0</td>\n",
       "      <td>1</td>\n",
       "      <td>0</td>\n",
       "      <td>1</td>\n",
       "      <td>0</td>\n",
       "      <td>0</td>\n",
       "      <td>1</td>\n",
       "      <td>1</td>\n",
       "      <td>0</td>\n",
       "      <td>...</td>\n",
       "      <td>0</td>\n",
       "      <td>1</td>\n",
       "      <td>0</td>\n",
       "      <td>0</td>\n",
       "      <td>0</td>\n",
       "      <td>1</td>\n",
       "      <td>0</td>\n",
       "      <td>0</td>\n",
       "      <td>1</td>\n",
       "      <td>0</td>\n",
       "    </tr>\n",
       "    <tr>\n",
       "      <th>6228</th>\n",
       "      <td>0</td>\n",
       "      <td>1</td>\n",
       "      <td>1</td>\n",
       "      <td>0</td>\n",
       "      <td>0</td>\n",
       "      <td>1</td>\n",
       "      <td>0</td>\n",
       "      <td>1</td>\n",
       "      <td>0</td>\n",
       "      <td>0</td>\n",
       "      <td>...</td>\n",
       "      <td>0</td>\n",
       "      <td>0</td>\n",
       "      <td>1</td>\n",
       "      <td>0</td>\n",
       "      <td>1</td>\n",
       "      <td>0</td>\n",
       "      <td>1</td>\n",
       "      <td>0</td>\n",
       "      <td>0</td>\n",
       "      <td>0</td>\n",
       "    </tr>\n",
       "    <tr>\n",
       "      <th>3205</th>\n",
       "      <td>1</td>\n",
       "      <td>0</td>\n",
       "      <td>0</td>\n",
       "      <td>1</td>\n",
       "      <td>0</td>\n",
       "      <td>1</td>\n",
       "      <td>0</td>\n",
       "      <td>1</td>\n",
       "      <td>0</td>\n",
       "      <td>0</td>\n",
       "      <td>...</td>\n",
       "      <td>1</td>\n",
       "      <td>0</td>\n",
       "      <td>0</td>\n",
       "      <td>1</td>\n",
       "      <td>0</td>\n",
       "      <td>1</td>\n",
       "      <td>1</td>\n",
       "      <td>0</td>\n",
       "      <td>0</td>\n",
       "      <td>0</td>\n",
       "    </tr>\n",
       "  </tbody>\n",
       "</table>\n",
       "<p>5 rows × 41 columns</p>\n",
       "</div>"
      ],
      "text/plain": [
       "      gender_Female  gender_Male  Partner_No  Partner_Yes  Dependents_No  \\\n",
       "3405              1            0           0            1              0   \n",
       "2295              0            1           1            0              1   \n",
       "1992              1            0           1            0              1   \n",
       "6228              0            1           1            0              0   \n",
       "3205              1            0           0            1              0   \n",
       "\n",
       "      Dependents_Yes  PhoneService_No  PhoneService_Yes  MultipleLines_No  \\\n",
       "3405               1                0                 1                 0   \n",
       "2295               0                1                 0                 0   \n",
       "1992               0                0                 1                 1   \n",
       "6228               1                0                 1                 0   \n",
       "3205               1                0                 1                 0   \n",
       "\n",
       "      MultipleLines_No phone service             ...              \\\n",
       "3405                               0             ...               \n",
       "2295                               1             ...               \n",
       "1992                               0             ...               \n",
       "6228                               0             ...               \n",
       "3205                               0             ...               \n",
       "\n",
       "      StreamingMovies_Yes  Contract_Month-to-month  Contract_One year  \\\n",
       "3405                    0                        1                  0   \n",
       "2295                    0                        1                  0   \n",
       "1992                    0                        1                  0   \n",
       "6228                    0                        0                  1   \n",
       "3205                    1                        0                  0   \n",
       "\n",
       "      Contract_Two year  PaperlessBilling_No  PaperlessBilling_Yes  \\\n",
       "3405                  0                    0                     1   \n",
       "2295                  0                    0                     1   \n",
       "1992                  0                    0                     1   \n",
       "6228                  0                    1                     0   \n",
       "3205                  1                    0                     1   \n",
       "\n",
       "      PaymentMethod_Bank transfer (automatic)  \\\n",
       "3405                                        1   \n",
       "2295                                        0   \n",
       "1992                                        0   \n",
       "6228                                        1   \n",
       "3205                                        1   \n",
       "\n",
       "      PaymentMethod_Credit card (automatic)  PaymentMethod_Electronic check  \\\n",
       "3405                                      0                               0   \n",
       "2295                                      0                               1   \n",
       "1992                                      0                               1   \n",
       "6228                                      0                               0   \n",
       "3205                                      0                               0   \n",
       "\n",
       "      PaymentMethod_Mailed check  \n",
       "3405                           0  \n",
       "2295                           0  \n",
       "1992                           0  \n",
       "6228                           0  \n",
       "3205                           0  \n",
       "\n",
       "[5 rows x 41 columns]"
      ]
     },
     "execution_count": 85,
     "metadata": {},
     "output_type": "execute_result"
    }
   ],
   "source": [
    "x_num1.sample(5)"
   ]
  },
  {
   "cell_type": "code",
   "execution_count": 103,
   "metadata": {},
   "outputs": [],
   "source": [
    "x_le = pd.concat([x_num,x_catg],axis=1)\n",
    "x_ged = pd.concat([x_num,x_num1],axis=1)"
   ]
  },
  {
   "cell_type": "code",
   "execution_count": 104,
   "metadata": {},
   "outputs": [
    {
     "data": {
      "text/plain": [
       "(7043, 19)"
      ]
     },
     "execution_count": 104,
     "metadata": {},
     "output_type": "execute_result"
    },
    {
     "data": {
      "text/plain": [
       "(7043, 45)"
      ]
     },
     "execution_count": 104,
     "metadata": {},
     "output_type": "execute_result"
    }
   ],
   "source": [
    "x_le.shape\n",
    "x_ged.shape"
   ]
  },
  {
   "cell_type": "code",
   "execution_count": 90,
   "metadata": {},
   "outputs": [],
   "source": [
    "y = df['Y']"
   ]
  },
  {
   "cell_type": "code",
   "execution_count": 105,
   "metadata": {},
   "outputs": [],
   "source": [
    "x_train,x_test,y_train,y_test = train_test_split(x_le,y,train_size=0.70,random_state=123)\n",
    "train_x,test_x,train_y,test_y = train_test_split(x_ged,y,train_size=0.70,random_state=143)"
   ]
  },
  {
   "cell_type": "code",
   "execution_count": 106,
   "metadata": {},
   "outputs": [
    {
     "data": {
      "text/plain": [
       "(4930, 19)"
      ]
     },
     "execution_count": 106,
     "metadata": {},
     "output_type": "execute_result"
    },
    {
     "data": {
      "text/plain": [
       "(2113, 19)"
      ]
     },
     "execution_count": 106,
     "metadata": {},
     "output_type": "execute_result"
    },
    {
     "data": {
      "text/plain": [
       "(4930, 45)"
      ]
     },
     "execution_count": 106,
     "metadata": {},
     "output_type": "execute_result"
    },
    {
     "data": {
      "text/plain": [
       "(2113, 45)"
      ]
     },
     "execution_count": 106,
     "metadata": {},
     "output_type": "execute_result"
    }
   ],
   "source": [
    "x_train.shape\n",
    "x_test.shape\n",
    "train_x.shape\n",
    "test_x.shape"
   ]
  },
  {
   "cell_type": "code",
   "execution_count": 107,
   "metadata": {},
   "outputs": [
    {
     "name": "stdout",
     "output_type": "stream",
     "text": [
      "<class 'pandas.core.frame.DataFrame'>\n",
      "RangeIndex: 7043 entries, 0 to 7042\n",
      "Data columns (total 19 columns):\n",
      "SeniorCitizen       7043 non-null int64\n",
      "tenure              7043 non-null int64\n",
      "MonthlyCharges      7043 non-null float64\n",
      "TotalCharges        7043 non-null float64\n",
      "gender              7043 non-null int64\n",
      "Partner             7043 non-null int64\n",
      "Dependents          7043 non-null int64\n",
      "PhoneService        7043 non-null int64\n",
      "MultipleLines       7043 non-null int64\n",
      "InternetService     7043 non-null int64\n",
      "OnlineSecurity      7043 non-null int64\n",
      "OnlineBackup        7043 non-null int64\n",
      "DeviceProtection    7043 non-null int64\n",
      "TechSupport         7043 non-null int64\n",
      "StreamingTV         7043 non-null int64\n",
      "StreamingMovies     7043 non-null int64\n",
      "Contract            7043 non-null int64\n",
      "PaperlessBilling    7043 non-null int64\n",
      "PaymentMethod       7043 non-null int64\n",
      "dtypes: float64(2), int64(17)\n",
      "memory usage: 1.0 MB\n"
     ]
    }
   ],
   "source": [
    "x_le.info()"
   ]
  },
  {
   "cell_type": "code",
   "execution_count": 116,
   "metadata": {},
   "outputs": [
    {
     "data": {
      "text/plain": [
       "DecisionTreeClassifier(class_weight=None, criterion='gini', max_depth=3,\n",
       "            max_features=None, max_leaf_nodes=None,\n",
       "            min_impurity_decrease=0.0, min_impurity_split=None,\n",
       "            min_samples_leaf=1, min_samples_split=2,\n",
       "            min_weight_fraction_leaf=0.0, presort=False, random_state=None,\n",
       "            splitter='best')"
      ]
     },
     "execution_count": 116,
     "metadata": {},
     "output_type": "execute_result"
    },
    {
     "data": {
      "text/plain": [
       "DecisionTreeClassifier(class_weight=None, criterion='entropy', max_depth=3,\n",
       "            max_features=None, max_leaf_nodes=None,\n",
       "            min_impurity_decrease=0.0, min_impurity_split=None,\n",
       "            min_samples_leaf=1, min_samples_split=2,\n",
       "            min_weight_fraction_leaf=0.0, presort=False, random_state=None,\n",
       "            splitter='best')"
      ]
     },
     "execution_count": 116,
     "metadata": {},
     "output_type": "execute_result"
    },
    {
     "data": {
      "text/plain": [
       "DecisionTreeClassifier(class_weight=None, criterion='gini', max_depth=3,\n",
       "            max_features=None, max_leaf_nodes=None,\n",
       "            min_impurity_decrease=0.0, min_impurity_split=None,\n",
       "            min_samples_leaf=1, min_samples_split=2,\n",
       "            min_weight_fraction_leaf=0.0, presort=False, random_state=None,\n",
       "            splitter='best')"
      ]
     },
     "execution_count": 116,
     "metadata": {},
     "output_type": "execute_result"
    },
    {
     "data": {
      "text/plain": [
       "DecisionTreeClassifier(class_weight=None, criterion='entropy', max_depth=3,\n",
       "            max_features=None, max_leaf_nodes=None,\n",
       "            min_impurity_decrease=0.0, min_impurity_split=None,\n",
       "            min_samples_leaf=1, min_samples_split=2,\n",
       "            min_weight_fraction_leaf=0.0, presort=False, random_state=None,\n",
       "            splitter='best')"
      ]
     },
     "execution_count": 116,
     "metadata": {},
     "output_type": "execute_result"
    }
   ],
   "source": [
    "from sklearn.tree import DecisionTreeClassifier\n",
    "dt_gi = DecisionTreeClassifier(criterion = 'gini',max_depth = 3)\n",
    "dt_en = DecisionTreeClassifier(criterion = 'entropy', max_depth =3)\n",
    "dt_gi1 = DecisionTreeClassifier(criterion = 'gini',max_depth = 3)\n",
    "dt_en1 = DecisionTreeClassifier(criterion = 'entropy', max_depth =3)\n",
    "dt_gi.fit(x_train,y_train)\n",
    "dt_en.fit(x_train,y_train)\n",
    "dt_gi1.fit(train_x,train_y)\n",
    "dt_en1.fit(train_x,train_y)"
   ]
  },
  {
   "cell_type": "code",
   "execution_count": 113,
   "metadata": {},
   "outputs": [
    {
     "data": {
      "text/plain": [
       "[('SeniorCitizen', 0.0),\n",
       " ('tenure', 0.18981612956937496),\n",
       " ('MonthlyCharges', 0.006459189906827757),\n",
       " ('TotalCharges', 0.0),\n",
       " ('gender', 0.0),\n",
       " ('Partner', 0.0),\n",
       " ('Dependents', 0.0),\n",
       " ('PhoneService', 0.0),\n",
       " ('MultipleLines', 0.0),\n",
       " ('InternetService', 0.0),\n",
       " ('OnlineSecurity', 0.0),\n",
       " ('OnlineBackup', 0.0),\n",
       " ('DeviceProtection', 0.0),\n",
       " ('TechSupport', 0.0),\n",
       " ('StreamingTV', 0.0),\n",
       " ('StreamingMovies', 0.0),\n",
       " ('Contract', 0.1937463459118446),\n",
       " ('PaperlessBilling', 0.0),\n",
       " ('PaymentMethod', 0.01846071210908354)]"
      ]
     },
     "execution_count": 113,
     "metadata": {},
     "output_type": "execute_result"
    },
    {
     "data": {
      "text/plain": [
       "[('SeniorCitizen', 0.0),\n",
       " ('tenure', 0.1537912959400833),\n",
       " ('MonthlyCharges', 0.0),\n",
       " ('TotalCharges', 0.0),\n",
       " ('gender', 0.0),\n",
       " ('Partner', 0.0),\n",
       " ('Dependents', 0.0),\n",
       " ('PhoneService', 0.0),\n",
       " ('MultipleLines', 0.0),\n",
       " ('InternetService', 0.0),\n",
       " ('OnlineSecurity', 0.0),\n",
       " ('OnlineBackup', 0.0),\n",
       " ('DeviceProtection', 0.0),\n",
       " ('TechSupport', 0.0),\n",
       " ('StreamingTV', 0.0),\n",
       " ('StreamingMovies', 0.0),\n",
       " ('Contract', 0.19454642884150017),\n",
       " ('PaperlessBilling', 0.0),\n",
       " ('PaymentMethod', 0.0)]"
      ]
     },
     "execution_count": 113,
     "metadata": {},
     "output_type": "execute_result"
    }
   ],
   "source": [
    "list(zip(x_train.columns,dt_gi.feature_importances_))\n",
    "list(zip(x_train.columns,dt_en.feature_importances_))\n"
   ]
  },
  {
   "cell_type": "code",
   "execution_count": 117,
   "metadata": {},
   "outputs": [
    {
     "data": {
      "text/plain": [
       "[('SeniorCitizen', 0.0),\n",
       " ('tenure', 0.18981612956937496),\n",
       " ('MonthlyCharges', 0.006459189906827757),\n",
       " ('TotalCharges', 0.0),\n",
       " ('gender_Female', 0.0),\n",
       " ('gender_Male', 0.0),\n",
       " ('Partner_No', 0.0),\n",
       " ('Partner_Yes', 0.0),\n",
       " ('Dependents_No', 0.0),\n",
       " ('Dependents_Yes', 0.0),\n",
       " ('PhoneService_No', 0.0),\n",
       " ('PhoneService_Yes', 0.0),\n",
       " ('MultipleLines_No', 0.0),\n",
       " ('MultipleLines_No phone service', 0.0),\n",
       " ('MultipleLines_Yes', 0.0),\n",
       " ('InternetService_DSL', 0.0),\n",
       " ('InternetService_Fiber optic', 0.1937463459118446),\n",
       " ('InternetService_No', 0.0),\n",
       " ('OnlineSecurity_No', 0.01846071210908354),\n",
       " ('OnlineSecurity_No internet service', 0.0),\n",
       " ('OnlineSecurity_Yes', 0.0),\n",
       " ('OnlineBackup_No', 0.0),\n",
       " ('OnlineBackup_No internet service', 0.0),\n",
       " ('OnlineBackup_Yes', 0.0),\n",
       " ('DeviceProtection_No', 0.0),\n",
       " ('DeviceProtection_No internet service', 0.0),\n",
       " ('DeviceProtection_Yes', 0.0),\n",
       " ('TechSupport_No', 0.0),\n",
       " ('TechSupport_No internet service', 0.0),\n",
       " ('TechSupport_Yes', 0.0),\n",
       " ('StreamingTV_No', 0.0),\n",
       " ('StreamingTV_No internet service', 0.0),\n",
       " ('StreamingTV_Yes', 0.0),\n",
       " ('StreamingMovies_No', 0.0),\n",
       " ('StreamingMovies_No internet service', 0.0),\n",
       " ('StreamingMovies_Yes', 0.0),\n",
       " ('Contract_Month-to-month', 0.5838550886885647),\n",
       " ('Contract_One year', 0.007662533814304513),\n",
       " ('Contract_Two year', 0.0),\n",
       " ('PaperlessBilling_No', 0.0),\n",
       " ('PaperlessBilling_Yes', 0.0),\n",
       " ('PaymentMethod_Bank transfer (automatic)', 0.0),\n",
       " ('PaymentMethod_Credit card (automatic)', 0.0),\n",
       " ('PaymentMethod_Electronic check', 0.0),\n",
       " ('PaymentMethod_Mailed check', 0.0)]"
      ]
     },
     "execution_count": 117,
     "metadata": {},
     "output_type": "execute_result"
    },
    {
     "data": {
      "text/plain": [
       "[('SeniorCitizen', 0.0),\n",
       " ('tenure', 0.1537912959400833),\n",
       " ('MonthlyCharges', 0.0),\n",
       " ('TotalCharges', 0.0),\n",
       " ('gender_Female', 0.0),\n",
       " ('gender_Male', 0.0),\n",
       " ('Partner_No', 0.0),\n",
       " ('Partner_Yes', 0.0),\n",
       " ('Dependents_No', 0.0),\n",
       " ('Dependents_Yes', 0.0),\n",
       " ('PhoneService_No', 0.0),\n",
       " ('PhoneService_Yes', 0.0),\n",
       " ('MultipleLines_No', 0.0),\n",
       " ('MultipleLines_No phone service', 0.0),\n",
       " ('MultipleLines_Yes', 0.0),\n",
       " ('InternetService_DSL', 0.0),\n",
       " ('InternetService_Fiber optic', 0.19454642884150017),\n",
       " ('InternetService_No', 0.0),\n",
       " ('OnlineSecurity_No', 0.0),\n",
       " ('OnlineSecurity_No internet service', 0.0),\n",
       " ('OnlineSecurity_Yes', 0.0),\n",
       " ('OnlineBackup_No', 0.0),\n",
       " ('OnlineBackup_No internet service', 0.0),\n",
       " ('OnlineBackup_Yes', 0.0),\n",
       " ('DeviceProtection_No', 0.0),\n",
       " ('DeviceProtection_No internet service', 0.0),\n",
       " ('DeviceProtection_Yes', 0.0),\n",
       " ('TechSupport_No', 0.0),\n",
       " ('TechSupport_No internet service', 0.0),\n",
       " ('TechSupport_Yes', 0.0),\n",
       " ('StreamingTV_No', 0.0),\n",
       " ('StreamingTV_No internet service', 0.0),\n",
       " ('StreamingTV_Yes', 0.0),\n",
       " ('StreamingMovies_No', 0.0),\n",
       " ('StreamingMovies_No internet service', 0.0),\n",
       " ('StreamingMovies_Yes', 0.0),\n",
       " ('Contract_Month-to-month', 0.6137721891441956),\n",
       " ('Contract_One year', 0.03789008607422089),\n",
       " ('Contract_Two year', 0.0),\n",
       " ('PaperlessBilling_No', 0.0),\n",
       " ('PaperlessBilling_Yes', 0.0),\n",
       " ('PaymentMethod_Bank transfer (automatic)', 0.0),\n",
       " ('PaymentMethod_Credit card (automatic)', 0.0),\n",
       " ('PaymentMethod_Electronic check', 0.0),\n",
       " ('PaymentMethod_Mailed check', 0.0)]"
      ]
     },
     "execution_count": 117,
     "metadata": {},
     "output_type": "execute_result"
    }
   ],
   "source": [
    "list(zip(train_x.columns,dt_gi1.feature_importances_))\n",
    "list(zip(train_x.columns,dt_en1.feature_importances_))"
   ]
  },
  {
   "cell_type": "code",
   "execution_count": 118,
   "metadata": {},
   "outputs": [],
   "source": [
    "y_pred_gini = dt_gi.predict(x_test)\n",
    "y_pred_gini1 = dt_gi1.predict(test_x)\n",
    "y_pred_entropy = dt_en.predict(x_test)\n",
    "y_pred_entropy1 = dt_en1.predict(test_x)"
   ]
  },
  {
   "cell_type": "code",
   "execution_count": 120,
   "metadata": {},
   "outputs": [
    {
     "data": {
      "text/plain": [
       "0.6245529007200329"
      ]
     },
     "execution_count": 120,
     "metadata": {},
     "output_type": "execute_result"
    },
    {
     "data": {
      "text/plain": [
       "0.4997546101027187"
      ]
     },
     "execution_count": 120,
     "metadata": {},
     "output_type": "execute_result"
    },
    {
     "data": {
      "text/plain": [
       "0.5126811999964163"
      ]
     },
     "execution_count": 120,
     "metadata": {},
     "output_type": "execute_result"
    },
    {
     "data": {
      "text/plain": [
       "0.6427353136171012"
      ]
     },
     "execution_count": 120,
     "metadata": {},
     "output_type": "execute_result"
    }
   ],
   "source": [
    "auc_gi = metrics.roc_auc_score(y_test,y_pred_gini)\n",
    "auc_gi1 = metrics.roc_auc_score(y_test,y_pred_gini1)\n",
    "auc_en = metrics.roc_auc_score(test_y,y_pred_entropy)\n",
    "auc_en1 = metrics.roc_auc_score(test_y,y_pred_entropy1)\n",
    "auc_gi\n",
    "auc_gi1\n",
    "auc_en\n",
    "auc_en1"
   ]
  },
  {
   "cell_type": "markdown",
   "metadata": {},
   "source": [
    "### Dummy coding with get_dummies function and entropy is giving High Area Under Curve Score Compared with Dummy coding with Preprocessing LabelEncoder() function."
   ]
  },
  {
   "cell_type": "code",
   "execution_count": 126,
   "metadata": {},
   "outputs": [],
   "source": [
    "from sklearn import tree\n",
    "import graphviz"
   ]
  },
  {
   "cell_type": "code",
   "execution_count": 127,
   "metadata": {},
   "outputs": [
    {
     "data": {
      "image/svg+xml": [
       "<?xml version=\"1.0\" encoding=\"UTF-8\" standalone=\"no\"?>\r\n",
       "<!DOCTYPE svg PUBLIC \"-//W3C//DTD SVG 1.1//EN\"\r\n",
       " \"http://www.w3.org/Graphics/SVG/1.1/DTD/svg11.dtd\">\r\n",
       "<!-- Generated by graphviz version 2.38.0 (20140413.2041)\r\n",
       " -->\r\n",
       "<!-- Title: Tree Pages: 1 -->\r\n",
       "<svg width=\"1045pt\" height=\"373pt\"\r\n",
       " viewBox=\"0.00 0.00 1044.50 373.00\" xmlns=\"http://www.w3.org/2000/svg\" xmlns:xlink=\"http://www.w3.org/1999/xlink\">\r\n",
       "<g id=\"graph0\" class=\"graph\" transform=\"scale(1 1) rotate(0) translate(4 369)\">\r\n",
       "<title>Tree</title>\r\n",
       "<polygon fill=\"white\" stroke=\"none\" points=\"-4,4 -4,-369 1040.5,-369 1040.5,4 -4,4\"/>\r\n",
       "<!-- 0 -->\r\n",
       "<g id=\"node1\" class=\"node\"><title>0</title>\r\n",
       "<polygon fill=\"#e58139\" fill-opacity=\"0.650980\" stroke=\"black\" points=\"588.5,-365 457.5,-365 457.5,-297 588.5,-297 588.5,-365\"/>\r\n",
       "<text text-anchor=\"start\" x=\"482\" y=\"-349.8\" font-family=\"Times New Roman,serif\" font-size=\"14.00\">Contract ≤ 0.5</text>\r\n",
       "<text text-anchor=\"start\" x=\"489.5\" y=\"-334.8\" font-family=\"Times New Roman,serif\" font-size=\"14.00\">gini = 0.384</text>\r\n",
       "<text text-anchor=\"start\" x=\"479\" y=\"-319.8\" font-family=\"Times New Roman,serif\" font-size=\"14.00\">samples = 4930</text>\r\n",
       "<text text-anchor=\"start\" x=\"465.5\" y=\"-304.8\" font-family=\"Times New Roman,serif\" font-size=\"14.00\">value = [3651, 1279]</text>\r\n",
       "</g>\r\n",
       "<!-- 1 -->\r\n",
       "<g id=\"node2\" class=\"node\"><title>1</title>\r\n",
       "<polygon fill=\"#e58139\" fill-opacity=\"0.278431\" stroke=\"black\" points=\"488.5,-261 357.5,-261 357.5,-193 488.5,-193 488.5,-261\"/>\r\n",
       "<text text-anchor=\"start\" x=\"365.5\" y=\"-245.8\" font-family=\"Times New Roman,serif\" font-size=\"14.00\">OnlineSecurity ≤ 0.5</text>\r\n",
       "<text text-anchor=\"start\" x=\"389.5\" y=\"-230.8\" font-family=\"Times New Roman,serif\" font-size=\"14.00\">gini = 0.487</text>\r\n",
       "<text text-anchor=\"start\" x=\"379\" y=\"-215.8\" font-family=\"Times New Roman,serif\" font-size=\"14.00\">samples = 2696</text>\r\n",
       "<text text-anchor=\"start\" x=\"365.5\" y=\"-200.8\" font-family=\"Times New Roman,serif\" font-size=\"14.00\">value = [1566, 1130]</text>\r\n",
       "</g>\r\n",
       "<!-- 0&#45;&gt;1 -->\r\n",
       "<g id=\"edge1\" class=\"edge\"><title>0&#45;&gt;1</title>\r\n",
       "<path fill=\"none\" stroke=\"black\" d=\"M490.533,-296.884C481.713,-287.887 472.059,-278.041 462.881,-268.678\"/>\r\n",
       "<polygon fill=\"black\" stroke=\"black\" points=\"465.146,-265.99 455.646,-261.299 460.148,-270.89 465.146,-265.99\"/>\r\n",
       "<text text-anchor=\"middle\" x=\"455.399\" y=\"-282.598\" font-family=\"Times New Roman,serif\" font-size=\"14.00\">True</text>\r\n",
       "</g>\r\n",
       "<!-- 8 -->\r\n",
       "<g id=\"node9\" class=\"node\"><title>8</title>\r\n",
       "<polygon fill=\"#e58139\" fill-opacity=\"0.929412\" stroke=\"black\" points=\"703.5,-261 542.5,-261 542.5,-193 703.5,-193 703.5,-261\"/>\r\n",
       "<text text-anchor=\"start\" x=\"550.5\" y=\"-245.8\" font-family=\"Times New Roman,serif\" font-size=\"14.00\">MonthlyCharges ≤ 99.875</text>\r\n",
       "<text text-anchor=\"start\" x=\"589.5\" y=\"-230.8\" font-family=\"Times New Roman,serif\" font-size=\"14.00\">gini = 0.124</text>\r\n",
       "<text text-anchor=\"start\" x=\"579\" y=\"-215.8\" font-family=\"Times New Roman,serif\" font-size=\"14.00\">samples = 2234</text>\r\n",
       "<text text-anchor=\"start\" x=\"568.5\" y=\"-200.8\" font-family=\"Times New Roman,serif\" font-size=\"14.00\">value = [2085, 149]</text>\r\n",
       "</g>\r\n",
       "<!-- 0&#45;&gt;8 -->\r\n",
       "<g id=\"edge8\" class=\"edge\"><title>0&#45;&gt;8</title>\r\n",
       "<path fill=\"none\" stroke=\"black\" d=\"M555.467,-296.884C564.287,-287.887 573.941,-278.041 583.119,-268.678\"/>\r\n",
       "<polygon fill=\"black\" stroke=\"black\" points=\"585.852,-270.89 590.354,-261.299 580.854,-265.99 585.852,-270.89\"/>\r\n",
       "<text text-anchor=\"middle\" x=\"590.601\" y=\"-282.598\" font-family=\"Times New Roman,serif\" font-size=\"14.00\">False</text>\r\n",
       "</g>\r\n",
       "<!-- 2 -->\r\n",
       "<g id=\"node3\" class=\"node\"><title>2</title>\r\n",
       "<polygon fill=\"#399de5\" fill-opacity=\"0.023529\" stroke=\"black\" points=\"254,-157 136,-157 136,-89 254,-89 254,-157\"/>\r\n",
       "<text text-anchor=\"start\" x=\"161.5\" y=\"-141.8\" font-family=\"Times New Roman,serif\" font-size=\"14.00\">tenure ≤ 5.5</text>\r\n",
       "<text text-anchor=\"start\" x=\"168.5\" y=\"-126.8\" font-family=\"Times New Roman,serif\" font-size=\"14.00\">gini = 0.5</text>\r\n",
       "<text text-anchor=\"start\" x=\"151\" y=\"-111.8\" font-family=\"Times New Roman,serif\" font-size=\"14.00\">samples = 1833</text>\r\n",
       "<text text-anchor=\"start\" x=\"144\" y=\"-96.8\" font-family=\"Times New Roman,serif\" font-size=\"14.00\">value = [906, 927]</text>\r\n",
       "</g>\r\n",
       "<!-- 1&#45;&gt;2 -->\r\n",
       "<g id=\"edge2\" class=\"edge\"><title>1&#45;&gt;2</title>\r\n",
       "<path fill=\"none\" stroke=\"black\" d=\"M357.359,-196.634C328.038,-183.517 293.479,-168.056 263.797,-154.778\"/>\r\n",
       "<polygon fill=\"black\" stroke=\"black\" points=\"264.902,-151.438 254.345,-150.549 262.043,-157.827 264.902,-151.438\"/>\r\n",
       "</g>\r\n",
       "<!-- 5 -->\r\n",
       "<g id=\"node6\" class=\"node\"><title>5</title>\r\n",
       "<polygon fill=\"#e58139\" fill-opacity=\"0.694118\" stroke=\"black\" points=\"500.5,-157 345.5,-157 345.5,-89 500.5,-89 500.5,-157\"/>\r\n",
       "<text text-anchor=\"start\" x=\"353.5\" y=\"-141.8\" font-family=\"Times New Roman,serif\" font-size=\"14.00\">MonthlyCharges ≤ 91.45</text>\r\n",
       "<text text-anchor=\"start\" x=\"393\" y=\"-126.8\" font-family=\"Times New Roman,serif\" font-size=\"14.00\">gini = 0.36</text>\r\n",
       "<text text-anchor=\"start\" x=\"382\" y=\"-111.8\" font-family=\"Times New Roman,serif\" font-size=\"14.00\">samples = 863</text>\r\n",
       "<text text-anchor=\"start\" x=\"372\" y=\"-96.8\" font-family=\"Times New Roman,serif\" font-size=\"14.00\">value = [660, 203]</text>\r\n",
       "</g>\r\n",
       "<!-- 1&#45;&gt;5 -->\r\n",
       "<g id=\"edge5\" class=\"edge\"><title>1&#45;&gt;5</title>\r\n",
       "<path fill=\"none\" stroke=\"black\" d=\"M423,-192.884C423,-184.778 423,-175.982 423,-167.472\"/>\r\n",
       "<polygon fill=\"black\" stroke=\"black\" points=\"426.5,-167.299 423,-157.299 419.5,-167.299 426.5,-167.299\"/>\r\n",
       "</g>\r\n",
       "<!-- 3 -->\r\n",
       "<g id=\"node4\" class=\"node\"><title>3</title>\r\n",
       "<polygon fill=\"#399de5\" fill-opacity=\"0.521569\" stroke=\"black\" points=\"118,-53 0,-53 0,-0 118,-0 118,-53\"/>\r\n",
       "<text text-anchor=\"start\" x=\"25.5\" y=\"-37.8\" font-family=\"Times New Roman,serif\" font-size=\"14.00\">gini = 0.438</text>\r\n",
       "<text text-anchor=\"start\" x=\"18\" y=\"-22.8\" font-family=\"Times New Roman,serif\" font-size=\"14.00\">samples = 639</text>\r\n",
       "<text text-anchor=\"start\" x=\"8\" y=\"-7.8\" font-family=\"Times New Roman,serif\" font-size=\"14.00\">value = [207, 432]</text>\r\n",
       "</g>\r\n",
       "<!-- 2&#45;&gt;3 -->\r\n",
       "<g id=\"edge3\" class=\"edge\"><title>2&#45;&gt;3</title>\r\n",
       "<path fill=\"none\" stroke=\"black\" d=\"M147.434,-88.9485C133.478,-79.2516 118.257,-68.6752 104.438,-59.073\"/>\r\n",
       "<polygon fill=\"black\" stroke=\"black\" points=\"106.248,-56.0687 96.0391,-53.2367 102.254,-61.8172 106.248,-56.0687\"/>\r\n",
       "</g>\r\n",
       "<!-- 4 -->\r\n",
       "<g id=\"node5\" class=\"node\"><title>4</title>\r\n",
       "<polygon fill=\"#e58139\" fill-opacity=\"0.290196\" stroke=\"black\" points=\"254,-53 136,-53 136,-0 254,-0 254,-53\"/>\r\n",
       "<text text-anchor=\"start\" x=\"161.5\" y=\"-37.8\" font-family=\"Times New Roman,serif\" font-size=\"14.00\">gini = 0.485</text>\r\n",
       "<text text-anchor=\"start\" x=\"151\" y=\"-22.8\" font-family=\"Times New Roman,serif\" font-size=\"14.00\">samples = 1194</text>\r\n",
       "<text text-anchor=\"start\" x=\"144\" y=\"-7.8\" font-family=\"Times New Roman,serif\" font-size=\"14.00\">value = [699, 495]</text>\r\n",
       "</g>\r\n",
       "<!-- 2&#45;&gt;4 -->\r\n",
       "<g id=\"edge4\" class=\"edge\"><title>2&#45;&gt;4</title>\r\n",
       "<path fill=\"none\" stroke=\"black\" d=\"M195,-88.9485C195,-80.7153 195,-71.848 195,-63.4814\"/>\r\n",
       "<polygon fill=\"black\" stroke=\"black\" points=\"198.5,-63.2367 195,-53.2367 191.5,-63.2367 198.5,-63.2367\"/>\r\n",
       "</g>\r\n",
       "<!-- 6 -->\r\n",
       "<g id=\"node7\" class=\"node\"><title>6</title>\r\n",
       "<polygon fill=\"#e58139\" fill-opacity=\"0.737255\" stroke=\"black\" points=\"390,-53 272,-53 272,-0 390,-0 390,-53\"/>\r\n",
       "<text text-anchor=\"start\" x=\"301\" y=\"-37.8\" font-family=\"Times New Roman,serif\" font-size=\"14.00\">gini = 0.33</text>\r\n",
       "<text text-anchor=\"start\" x=\"290\" y=\"-22.8\" font-family=\"Times New Roman,serif\" font-size=\"14.00\">samples = 734</text>\r\n",
       "<text text-anchor=\"start\" x=\"280\" y=\"-7.8\" font-family=\"Times New Roman,serif\" font-size=\"14.00\">value = [581, 153]</text>\r\n",
       "</g>\r\n",
       "<!-- 5&#45;&gt;6 -->\r\n",
       "<g id=\"edge6\" class=\"edge\"><title>5&#45;&gt;6</title>\r\n",
       "<path fill=\"none\" stroke=\"black\" d=\"M390.823,-88.9485C381.828,-79.709 372.055,-69.671 363.067,-60.4381\"/>\r\n",
       "<polygon fill=\"black\" stroke=\"black\" points=\"365.539,-57.9605 356.056,-53.2367 360.524,-62.8434 365.539,-57.9605\"/>\r\n",
       "</g>\r\n",
       "<!-- 7 -->\r\n",
       "<g id=\"node8\" class=\"node\"><title>7</title>\r\n",
       "<polygon fill=\"#e58139\" fill-opacity=\"0.368627\" stroke=\"black\" points=\"512,-53 408,-53 408,-0 512,-0 512,-53\"/>\r\n",
       "<text text-anchor=\"start\" x=\"426.5\" y=\"-37.8\" font-family=\"Times New Roman,serif\" font-size=\"14.00\">gini = 0.475</text>\r\n",
       "<text text-anchor=\"start\" x=\"419\" y=\"-22.8\" font-family=\"Times New Roman,serif\" font-size=\"14.00\">samples = 129</text>\r\n",
       "<text text-anchor=\"start\" x=\"416\" y=\"-7.8\" font-family=\"Times New Roman,serif\" font-size=\"14.00\">value = [79, 50]</text>\r\n",
       "</g>\r\n",
       "<!-- 5&#45;&gt;7 -->\r\n",
       "<g id=\"edge7\" class=\"edge\"><title>5&#45;&gt;7</title>\r\n",
       "<path fill=\"none\" stroke=\"black\" d=\"M435.941,-88.9485C439.272,-80.4408 442.868,-71.2562 446.239,-62.6464\"/>\r\n",
       "<polygon fill=\"black\" stroke=\"black\" points=\"449.536,-63.8245 449.923,-53.2367 443.018,-61.2723 449.536,-63.8245\"/>\r\n",
       "</g>\r\n",
       "<!-- 9 -->\r\n",
       "<g id=\"node10\" class=\"node\"><title>9</title>\r\n",
       "<polygon fill=\"#e58139\" fill-opacity=\"0.956863\" stroke=\"black\" points=\"688.5,-157 557.5,-157 557.5,-89 688.5,-89 688.5,-157\"/>\r\n",
       "<text text-anchor=\"start\" x=\"565.5\" y=\"-141.8\" font-family=\"Times New Roman,serif\" font-size=\"14.00\">OnlineSecurity ≤ 0.5</text>\r\n",
       "<text text-anchor=\"start\" x=\"589.5\" y=\"-126.8\" font-family=\"Times New Roman,serif\" font-size=\"14.00\">gini = 0.082</text>\r\n",
       "<text text-anchor=\"start\" x=\"579\" y=\"-111.8\" font-family=\"Times New Roman,serif\" font-size=\"14.00\">samples = 1835</text>\r\n",
       "<text text-anchor=\"start\" x=\"572\" y=\"-96.8\" font-family=\"Times New Roman,serif\" font-size=\"14.00\">value = [1756, 79]</text>\r\n",
       "</g>\r\n",
       "<!-- 8&#45;&gt;9 -->\r\n",
       "<g id=\"edge9\" class=\"edge\"><title>8&#45;&gt;9</title>\r\n",
       "<path fill=\"none\" stroke=\"black\" d=\"M623,-192.884C623,-184.778 623,-175.982 623,-167.472\"/>\r\n",
       "<polygon fill=\"black\" stroke=\"black\" points=\"626.5,-167.299 623,-157.299 619.5,-167.299 626.5,-167.299\"/>\r\n",
       "</g>\r\n",
       "<!-- 12 -->\r\n",
       "<g id=\"node13\" class=\"node\"><title>12</title>\r\n",
       "<polygon fill=\"#e58139\" fill-opacity=\"0.788235\" stroke=\"black\" points=\"907.5,-157 796.5,-157 796.5,-89 907.5,-89 907.5,-157\"/>\r\n",
       "<text text-anchor=\"start\" x=\"811\" y=\"-141.8\" font-family=\"Times New Roman,serif\" font-size=\"14.00\">Contract ≤ 1.5</text>\r\n",
       "<text text-anchor=\"start\" x=\"818.5\" y=\"-126.8\" font-family=\"Times New Roman,serif\" font-size=\"14.00\">gini = 0.289</text>\r\n",
       "<text text-anchor=\"start\" x=\"811\" y=\"-111.8\" font-family=\"Times New Roman,serif\" font-size=\"14.00\">samples = 399</text>\r\n",
       "<text text-anchor=\"start\" x=\"804.5\" y=\"-96.8\" font-family=\"Times New Roman,serif\" font-size=\"14.00\">value = [329, 70]</text>\r\n",
       "</g>\r\n",
       "<!-- 8&#45;&gt;12 -->\r\n",
       "<g id=\"edge12\" class=\"edge\"><title>8&#45;&gt;12</title>\r\n",
       "<path fill=\"none\" stroke=\"black\" d=\"M697.35,-192.884C726.214,-180.027 758.976,-165.434 786.892,-153\"/>\r\n",
       "<polygon fill=\"black\" stroke=\"black\" points=\"788.45,-156.138 796.161,-148.871 785.602,-149.743 788.45,-156.138\"/>\r\n",
       "</g>\r\n",
       "<!-- 10 -->\r\n",
       "<g id=\"node11\" class=\"node\"><title>10</title>\r\n",
       "<polygon fill=\"#e58139\" fill-opacity=\"0.886275\" stroke=\"black\" points=\"641.5,-53 530.5,-53 530.5,-0 641.5,-0 641.5,-53\"/>\r\n",
       "<text text-anchor=\"start\" x=\"552.5\" y=\"-37.8\" font-family=\"Times New Roman,serif\" font-size=\"14.00\">gini = 0.181</text>\r\n",
       "<text text-anchor=\"start\" x=\"545\" y=\"-22.8\" font-family=\"Times New Roman,serif\" font-size=\"14.00\">samples = 436</text>\r\n",
       "<text text-anchor=\"start\" x=\"538.5\" y=\"-7.8\" font-family=\"Times New Roman,serif\" font-size=\"14.00\">value = [392, 44]</text>\r\n",
       "</g>\r\n",
       "<!-- 9&#45;&gt;10 -->\r\n",
       "<g id=\"edge10\" class=\"edge\"><title>9&#45;&gt;10</title>\r\n",
       "<path fill=\"none\" stroke=\"black\" d=\"M610.059,-88.9485C606.728,-80.4408 603.132,-71.2562 599.761,-62.6464\"/>\r\n",
       "<polygon fill=\"black\" stroke=\"black\" points=\"602.982,-61.2723 596.077,-53.2367 596.464,-63.8245 602.982,-61.2723\"/>\r\n",
       "</g>\r\n",
       "<!-- 11 -->\r\n",
       "<g id=\"node12\" class=\"node\"><title>11</title>\r\n",
       "<polygon fill=\"#e58139\" fill-opacity=\"0.972549\" stroke=\"black\" points=\"778,-53 660,-53 660,-0 778,-0 778,-53\"/>\r\n",
       "<text text-anchor=\"start\" x=\"685.5\" y=\"-37.8\" font-family=\"Times New Roman,serif\" font-size=\"14.00\">gini = 0.049</text>\r\n",
       "<text text-anchor=\"start\" x=\"675\" y=\"-22.8\" font-family=\"Times New Roman,serif\" font-size=\"14.00\">samples = 1399</text>\r\n",
       "<text text-anchor=\"start\" x=\"668\" y=\"-7.8\" font-family=\"Times New Roman,serif\" font-size=\"14.00\">value = [1364, 35]</text>\r\n",
       "</g>\r\n",
       "<!-- 9&#45;&gt;11 -->\r\n",
       "<g id=\"edge11\" class=\"edge\"><title>9&#45;&gt;11</title>\r\n",
       "<path fill=\"none\" stroke=\"black\" d=\"M656.576,-88.9485C665.962,-79.709 676.16,-69.671 685.539,-60.4381\"/>\r\n",
       "<polygon fill=\"black\" stroke=\"black\" points=\"688.184,-62.7462 692.855,-53.2367 683.273,-57.7576 688.184,-62.7462\"/>\r\n",
       "</g>\r\n",
       "<!-- 13 -->\r\n",
       "<g id=\"node14\" class=\"node\"><title>13</title>\r\n",
       "<polygon fill=\"#e58139\" fill-opacity=\"0.627451\" stroke=\"black\" points=\"907.5,-53 796.5,-53 796.5,-0 907.5,-0 907.5,-53\"/>\r\n",
       "<text text-anchor=\"start\" x=\"818.5\" y=\"-37.8\" font-family=\"Times New Roman,serif\" font-size=\"14.00\">gini = 0.395</text>\r\n",
       "<text text-anchor=\"start\" x=\"811\" y=\"-22.8\" font-family=\"Times New Roman,serif\" font-size=\"14.00\">samples = 196</text>\r\n",
       "<text text-anchor=\"start\" x=\"804.5\" y=\"-7.8\" font-family=\"Times New Roman,serif\" font-size=\"14.00\">value = [143, 53]</text>\r\n",
       "</g>\r\n",
       "<!-- 12&#45;&gt;13 -->\r\n",
       "<g id=\"edge13\" class=\"edge\"><title>12&#45;&gt;13</title>\r\n",
       "<path fill=\"none\" stroke=\"black\" d=\"M852,-88.9485C852,-80.7153 852,-71.848 852,-63.4814\"/>\r\n",
       "<polygon fill=\"black\" stroke=\"black\" points=\"855.5,-63.2367 852,-53.2367 848.5,-63.2367 855.5,-63.2367\"/>\r\n",
       "</g>\r\n",
       "<!-- 14 -->\r\n",
       "<g id=\"node15\" class=\"node\"><title>14</title>\r\n",
       "<polygon fill=\"#e58139\" fill-opacity=\"0.909804\" stroke=\"black\" points=\"1036.5,-53 925.5,-53 925.5,-0 1036.5,-0 1036.5,-53\"/>\r\n",
       "<text text-anchor=\"start\" x=\"947.5\" y=\"-37.8\" font-family=\"Times New Roman,serif\" font-size=\"14.00\">gini = 0.153</text>\r\n",
       "<text text-anchor=\"start\" x=\"940\" y=\"-22.8\" font-family=\"Times New Roman,serif\" font-size=\"14.00\">samples = 203</text>\r\n",
       "<text text-anchor=\"start\" x=\"933.5\" y=\"-7.8\" font-family=\"Times New Roman,serif\" font-size=\"14.00\">value = [186, 17]</text>\r\n",
       "</g>\r\n",
       "<!-- 12&#45;&gt;14 -->\r\n",
       "<g id=\"edge14\" class=\"edge\"><title>12&#45;&gt;14</title>\r\n",
       "<path fill=\"none\" stroke=\"black\" d=\"M897.118,-88.9485C910.23,-79.3431 924.52,-68.8747 937.529,-59.345\"/>\r\n",
       "<polygon fill=\"black\" stroke=\"black\" points=\"939.869,-61.9698 945.867,-53.2367 935.732,-56.3228 939.869,-61.9698\"/>\r\n",
       "</g>\r\n",
       "</g>\r\n",
       "</svg>\r\n"
      ],
      "text/plain": [
       "<graphviz.files.Source at 0x16396acd390>"
      ]
     },
     "execution_count": 127,
     "metadata": {},
     "output_type": "execute_result"
    }
   ],
   "source": [
    "dot_data = tree.export_graphviz(dt_gi,out_file=None,feature_names=x_train.columns,filled=True,special_characters=True,)\n",
    "graph = graphviz.Source(dot_data)\n",
    "graph"
   ]
  },
  {
   "cell_type": "code",
   "execution_count": 129,
   "metadata": {},
   "outputs": [
    {
     "data": {
      "image/svg+xml": [
       "<?xml version=\"1.0\" encoding=\"UTF-8\" standalone=\"no\"?>\r\n",
       "<!DOCTYPE svg PUBLIC \"-//W3C//DTD SVG 1.1//EN\"\r\n",
       " \"http://www.w3.org/Graphics/SVG/1.1/DTD/svg11.dtd\">\r\n",
       "<!-- Generated by graphviz version 2.38.0 (20140413.2041)\r\n",
       " -->\r\n",
       "<!-- Title: Tree Pages: 1 -->\r\n",
       "<svg width=\"1058pt\" height=\"373pt\"\r\n",
       " viewBox=\"0.00 0.00 1058.00 373.00\" xmlns=\"http://www.w3.org/2000/svg\" xmlns:xlink=\"http://www.w3.org/1999/xlink\">\r\n",
       "<g id=\"graph0\" class=\"graph\" transform=\"scale(1 1) rotate(0) translate(4 369)\">\r\n",
       "<title>Tree</title>\r\n",
       "<polygon fill=\"white\" stroke=\"none\" points=\"-4,4 -4,-369 1054,-369 1054,4 -4,4\"/>\r\n",
       "<!-- 0 -->\r\n",
       "<g id=\"node1\" class=\"node\"><title>0</title>\r\n",
       "<polygon fill=\"#e58139\" fill-opacity=\"0.647059\" stroke=\"black\" points=\"614.5,-365 417.5,-365 417.5,-297 614.5,-297 614.5,-365\"/>\r\n",
       "<text text-anchor=\"start\" x=\"425.5\" y=\"-349.8\" font-family=\"Times New Roman,serif\" font-size=\"14.00\">Contract_Month&#45;to&#45;month ≤ 0.5</text>\r\n",
       "<text text-anchor=\"start\" x=\"482.5\" y=\"-334.8\" font-family=\"Times New Roman,serif\" font-size=\"14.00\">gini = 0.385</text>\r\n",
       "<text text-anchor=\"start\" x=\"472\" y=\"-319.8\" font-family=\"Times New Roman,serif\" font-size=\"14.00\">samples = 4930</text>\r\n",
       "<text text-anchor=\"start\" x=\"458.5\" y=\"-304.8\" font-family=\"Times New Roman,serif\" font-size=\"14.00\">value = [3645, 1285]</text>\r\n",
       "</g>\r\n",
       "<!-- 1 -->\r\n",
       "<g id=\"node2\" class=\"node\"><title>1</title>\r\n",
       "<polygon fill=\"#e58139\" fill-opacity=\"0.925490\" stroke=\"black\" points=\"491.5,-261 336.5,-261 336.5,-193 491.5,-193 491.5,-261\"/>\r\n",
       "<text text-anchor=\"start\" x=\"344.5\" y=\"-245.8\" font-family=\"Times New Roman,serif\" font-size=\"14.00\">OnlineSecurity_No ≤ 0.5</text>\r\n",
       "<text text-anchor=\"start\" x=\"380.5\" y=\"-230.8\" font-family=\"Times New Roman,serif\" font-size=\"14.00\">gini = 0.127</text>\r\n",
       "<text text-anchor=\"start\" x=\"370\" y=\"-215.8\" font-family=\"Times New Roman,serif\" font-size=\"14.00\">samples = 2256</text>\r\n",
       "<text text-anchor=\"start\" x=\"359.5\" y=\"-200.8\" font-family=\"Times New Roman,serif\" font-size=\"14.00\">value = [2102, 154]</text>\r\n",
       "</g>\r\n",
       "<!-- 0&#45;&gt;1 -->\r\n",
       "<g id=\"edge1\" class=\"edge\"><title>0&#45;&gt;1</title>\r\n",
       "<path fill=\"none\" stroke=\"black\" d=\"M482.884,-296.884C473.798,-287.798 463.845,-277.845 454.4,-268.4\"/>\r\n",
       "<polygon fill=\"black\" stroke=\"black\" points=\"456.845,-265.896 447.299,-261.299 451.896,-270.845 456.845,-265.896\"/>\r\n",
       "<text text-anchor=\"middle\" x=\"447.299\" y=\"-282.599\" font-family=\"Times New Roman,serif\" font-size=\"14.00\">True</text>\r\n",
       "</g>\r\n",
       "<!-- 8 -->\r\n",
       "<g id=\"node9\" class=\"node\"><title>8</title>\r\n",
       "<polygon fill=\"#e58139\" fill-opacity=\"0.266667\" stroke=\"black\" points=\"719.5,-261 518.5,-261 518.5,-193 719.5,-193 719.5,-261\"/>\r\n",
       "<text text-anchor=\"start\" x=\"526.5\" y=\"-245.8\" font-family=\"Times New Roman,serif\" font-size=\"14.00\">InternetService_Fiber optic ≤ 0.5</text>\r\n",
       "<text text-anchor=\"start\" x=\"585.5\" y=\"-230.8\" font-family=\"Times New Roman,serif\" font-size=\"14.00\">gini = 0.488</text>\r\n",
       "<text text-anchor=\"start\" x=\"575\" y=\"-215.8\" font-family=\"Times New Roman,serif\" font-size=\"14.00\">samples = 2674</text>\r\n",
       "<text text-anchor=\"start\" x=\"561.5\" y=\"-200.8\" font-family=\"Times New Roman,serif\" font-size=\"14.00\">value = [1543, 1131]</text>\r\n",
       "</g>\r\n",
       "<!-- 0&#45;&gt;8 -->\r\n",
       "<g id=\"edge8\" class=\"edge\"><title>0&#45;&gt;8</title>\r\n",
       "<path fill=\"none\" stroke=\"black\" d=\"M549.441,-296.884C558.616,-287.798 568.666,-277.845 578.204,-268.4\"/>\r\n",
       "<polygon fill=\"black\" stroke=\"black\" points=\"580.731,-270.823 585.374,-261.299 575.806,-265.849 580.731,-270.823\"/>\r\n",
       "<text text-anchor=\"middle\" x=\"585.252\" y=\"-282.599\" font-family=\"Times New Roman,serif\" font-size=\"14.00\">False</text>\r\n",
       "</g>\r\n",
       "<!-- 2 -->\r\n",
       "<g id=\"node3\" class=\"node\"><title>2</title>\r\n",
       "<polygon fill=\"#e58139\" fill-opacity=\"0.956863\" stroke=\"black\" points=\"272.5,-157 111.5,-157 111.5,-89 272.5,-89 272.5,-157\"/>\r\n",
       "<text text-anchor=\"start\" x=\"119.5\" y=\"-141.8\" font-family=\"Times New Roman,serif\" font-size=\"14.00\">MonthlyCharges ≤ 101.95</text>\r\n",
       "<text text-anchor=\"start\" x=\"158.5\" y=\"-126.8\" font-family=\"Times New Roman,serif\" font-size=\"14.00\">gini = 0.077</text>\r\n",
       "<text text-anchor=\"start\" x=\"148\" y=\"-111.8\" font-family=\"Times New Roman,serif\" font-size=\"14.00\">samples = 1648</text>\r\n",
       "<text text-anchor=\"start\" x=\"141\" y=\"-96.8\" font-family=\"Times New Roman,serif\" font-size=\"14.00\">value = [1582, 66]</text>\r\n",
       "</g>\r\n",
       "<!-- 1&#45;&gt;2 -->\r\n",
       "<g id=\"edge2\" class=\"edge\"><title>1&#45;&gt;2</title>\r\n",
       "<path fill=\"none\" stroke=\"black\" d=\"M341.923,-192.884C320.002,-182.812 295.761,-171.674 273.278,-161.344\"/>\r\n",
       "<polygon fill=\"black\" stroke=\"black\" points=\"274.643,-158.119 264.095,-157.125 271.721,-164.48 274.643,-158.119\"/>\r\n",
       "</g>\r\n",
       "<!-- 5 -->\r\n",
       "<g id=\"node6\" class=\"node\"><title>5</title>\r\n",
       "<polygon fill=\"#e58139\" fill-opacity=\"0.831373\" stroke=\"black\" points=\"491.5,-157 336.5,-157 336.5,-89 491.5,-89 491.5,-157\"/>\r\n",
       "<text text-anchor=\"start\" x=\"344.5\" y=\"-141.8\" font-family=\"Times New Roman,serif\" font-size=\"14.00\">Contract_One year ≤ 0.5</text>\r\n",
       "<text text-anchor=\"start\" x=\"380.5\" y=\"-126.8\" font-family=\"Times New Roman,serif\" font-size=\"14.00\">gini = 0.248</text>\r\n",
       "<text text-anchor=\"start\" x=\"373\" y=\"-111.8\" font-family=\"Times New Roman,serif\" font-size=\"14.00\">samples = 608</text>\r\n",
       "<text text-anchor=\"start\" x=\"366.5\" y=\"-96.8\" font-family=\"Times New Roman,serif\" font-size=\"14.00\">value = [520, 88]</text>\r\n",
       "</g>\r\n",
       "<!-- 1&#45;&gt;5 -->\r\n",
       "<g id=\"edge5\" class=\"edge\"><title>1&#45;&gt;5</title>\r\n",
       "<path fill=\"none\" stroke=\"black\" d=\"M414,-192.884C414,-184.778 414,-175.982 414,-167.472\"/>\r\n",
       "<polygon fill=\"black\" stroke=\"black\" points=\"417.5,-167.299 414,-157.299 410.5,-167.299 417.5,-167.299\"/>\r\n",
       "</g>\r\n",
       "<!-- 3 -->\r\n",
       "<g id=\"node4\" class=\"node\"><title>3</title>\r\n",
       "<polygon fill=\"#e58139\" fill-opacity=\"0.972549\" stroke=\"black\" points=\"118,-53 0,-53 0,-0 118,-0 118,-53\"/>\r\n",
       "<text text-anchor=\"start\" x=\"25.5\" y=\"-37.8\" font-family=\"Times New Roman,serif\" font-size=\"14.00\">gini = 0.054</text>\r\n",
       "<text text-anchor=\"start\" x=\"15\" y=\"-22.8\" font-family=\"Times New Roman,serif\" font-size=\"14.00\">samples = 1439</text>\r\n",
       "<text text-anchor=\"start\" x=\"8\" y=\"-7.8\" font-family=\"Times New Roman,serif\" font-size=\"14.00\">value = [1399, 40]</text>\r\n",
       "</g>\r\n",
       "<!-- 2&#45;&gt;3 -->\r\n",
       "<g id=\"edge3\" class=\"edge\"><title>2&#45;&gt;3</title>\r\n",
       "<path fill=\"none\" stroke=\"black\" d=\"M145.483,-88.9485C131.836,-79.2516 116.95,-68.6752 103.436,-59.073\"/>\r\n",
       "<polygon fill=\"black\" stroke=\"black\" points=\"105.401,-56.1757 95.222,-53.2367 101.347,-61.882 105.401,-56.1757\"/>\r\n",
       "</g>\r\n",
       "<!-- 4 -->\r\n",
       "<g id=\"node5\" class=\"node\"><title>4</title>\r\n",
       "<polygon fill=\"#e58139\" fill-opacity=\"0.858824\" stroke=\"black\" points=\"247.5,-53 136.5,-53 136.5,-0 247.5,-0 247.5,-53\"/>\r\n",
       "<text text-anchor=\"start\" x=\"158.5\" y=\"-37.8\" font-family=\"Times New Roman,serif\" font-size=\"14.00\">gini = 0.218</text>\r\n",
       "<text text-anchor=\"start\" x=\"151\" y=\"-22.8\" font-family=\"Times New Roman,serif\" font-size=\"14.00\">samples = 209</text>\r\n",
       "<text text-anchor=\"start\" x=\"144.5\" y=\"-7.8\" font-family=\"Times New Roman,serif\" font-size=\"14.00\">value = [183, 26]</text>\r\n",
       "</g>\r\n",
       "<!-- 2&#45;&gt;4 -->\r\n",
       "<g id=\"edge4\" class=\"edge\"><title>2&#45;&gt;4</title>\r\n",
       "<path fill=\"none\" stroke=\"black\" d=\"M192,-88.9485C192,-80.7153 192,-71.848 192,-63.4814\"/>\r\n",
       "<polygon fill=\"black\" stroke=\"black\" points=\"195.5,-63.2367 192,-53.2367 188.5,-63.2367 195.5,-63.2367\"/>\r\n",
       "</g>\r\n",
       "<!-- 6 -->\r\n",
       "<g id=\"node7\" class=\"node\"><title>6</title>\r\n",
       "<polygon fill=\"#e58139\" fill-opacity=\"0.925490\" stroke=\"black\" points=\"376.5,-53 265.5,-53 265.5,-0 376.5,-0 376.5,-53\"/>\r\n",
       "<text text-anchor=\"start\" x=\"287.5\" y=\"-37.8\" font-family=\"Times New Roman,serif\" font-size=\"14.00\">gini = 0.127</text>\r\n",
       "<text text-anchor=\"start\" x=\"280\" y=\"-22.8\" font-family=\"Times New Roman,serif\" font-size=\"14.00\">samples = 220</text>\r\n",
       "<text text-anchor=\"start\" x=\"273.5\" y=\"-7.8\" font-family=\"Times New Roman,serif\" font-size=\"14.00\">value = [205, 15]</text>\r\n",
       "</g>\r\n",
       "<!-- 5&#45;&gt;6 -->\r\n",
       "<g id=\"edge6\" class=\"edge\"><title>5&#45;&gt;6</title>\r\n",
       "<path fill=\"none\" stroke=\"black\" d=\"M381.473,-88.9485C372.38,-79.709 362.502,-69.671 353.415,-60.4381\"/>\r\n",
       "<polygon fill=\"black\" stroke=\"black\" points=\"355.837,-57.9091 346.328,-53.2367 350.848,-62.8191 355.837,-57.9091\"/>\r\n",
       "</g>\r\n",
       "<!-- 7 -->\r\n",
       "<g id=\"node8\" class=\"node\"><title>7</title>\r\n",
       "<polygon fill=\"#e58139\" fill-opacity=\"0.768627\" stroke=\"black\" points=\"505.5,-53 394.5,-53 394.5,-0 505.5,-0 505.5,-53\"/>\r\n",
       "<text text-anchor=\"start\" x=\"416.5\" y=\"-37.8\" font-family=\"Times New Roman,serif\" font-size=\"14.00\">gini = 0.305</text>\r\n",
       "<text text-anchor=\"start\" x=\"409\" y=\"-22.8\" font-family=\"Times New Roman,serif\" font-size=\"14.00\">samples = 388</text>\r\n",
       "<text text-anchor=\"start\" x=\"402.5\" y=\"-7.8\" font-family=\"Times New Roman,serif\" font-size=\"14.00\">value = [315, 73]</text>\r\n",
       "</g>\r\n",
       "<!-- 5&#45;&gt;7 -->\r\n",
       "<g id=\"edge7\" class=\"edge\"><title>5&#45;&gt;7</title>\r\n",
       "<path fill=\"none\" stroke=\"black\" d=\"M426.591,-88.9485C429.832,-80.4408 433.331,-71.2562 436.611,-62.6464\"/>\r\n",
       "<polygon fill=\"black\" stroke=\"black\" points=\"439.906,-63.8276 440.196,-53.2367 433.365,-61.3356 439.906,-63.8276\"/>\r\n",
       "</g>\r\n",
       "<!-- 9 -->\r\n",
       "<g id=\"node10\" class=\"node\"><title>9</title>\r\n",
       "<polygon fill=\"#e58139\" fill-opacity=\"0.627451\" stroke=\"black\" points=\"678,-157 560,-157 560,-89 678,-89 678,-157\"/>\r\n",
       "<text text-anchor=\"start\" x=\"585.5\" y=\"-141.8\" font-family=\"Times New Roman,serif\" font-size=\"14.00\">tenure ≤ 5.5</text>\r\n",
       "<text text-anchor=\"start\" x=\"585.5\" y=\"-126.8\" font-family=\"Times New Roman,serif\" font-size=\"14.00\">gini = 0.395</text>\r\n",
       "<text text-anchor=\"start\" x=\"575\" y=\"-111.8\" font-family=\"Times New Roman,serif\" font-size=\"14.00\">samples = 1208</text>\r\n",
       "<text text-anchor=\"start\" x=\"568\" y=\"-96.8\" font-family=\"Times New Roman,serif\" font-size=\"14.00\">value = [881, 327]</text>\r\n",
       "</g>\r\n",
       "<!-- 8&#45;&gt;9 -->\r\n",
       "<g id=\"edge9\" class=\"edge\"><title>8&#45;&gt;9</title>\r\n",
       "<path fill=\"none\" stroke=\"black\" d=\"M619,-192.884C619,-184.778 619,-175.982 619,-167.472\"/>\r\n",
       "<polygon fill=\"black\" stroke=\"black\" points=\"622.5,-167.299 619,-157.299 615.5,-167.299 622.5,-167.299\"/>\r\n",
       "</g>\r\n",
       "<!-- 12 -->\r\n",
       "<g id=\"node13\" class=\"node\"><title>12</title>\r\n",
       "<polygon fill=\"#399de5\" fill-opacity=\"0.176471\" stroke=\"black\" points=\"914,-157 796,-157 796,-89 914,-89 914,-157\"/>\r\n",
       "<text text-anchor=\"start\" x=\"818.5\" y=\"-141.8\" font-family=\"Times New Roman,serif\" font-size=\"14.00\">tenure ≤ 13.5</text>\r\n",
       "<text text-anchor=\"start\" x=\"821.5\" y=\"-126.8\" font-family=\"Times New Roman,serif\" font-size=\"14.00\">gini = 0.495</text>\r\n",
       "<text text-anchor=\"start\" x=\"811\" y=\"-111.8\" font-family=\"Times New Roman,serif\" font-size=\"14.00\">samples = 1466</text>\r\n",
       "<text text-anchor=\"start\" x=\"804\" y=\"-96.8\" font-family=\"Times New Roman,serif\" font-size=\"14.00\">value = [662, 804]</text>\r\n",
       "</g>\r\n",
       "<!-- 8&#45;&gt;12 -->\r\n",
       "<g id=\"edge12\" class=\"edge\"><title>8&#45;&gt;12</title>\r\n",
       "<path fill=\"none\" stroke=\"black\" d=\"M695.622,-192.884C724.885,-180.236 758.036,-165.908 786.495,-153.608\"/>\r\n",
       "<polygon fill=\"black\" stroke=\"black\" points=\"788.163,-156.7 795.954,-149.52 785.386,-150.275 788.163,-156.7\"/>\r\n",
       "</g>\r\n",
       "<!-- 10 -->\r\n",
       "<g id=\"node11\" class=\"node\"><title>10</title>\r\n",
       "<polygon fill=\"#e58139\" fill-opacity=\"0.286275\" stroke=\"black\" points=\"642,-53 524,-53 524,-0 642,-0 642,-53\"/>\r\n",
       "<text text-anchor=\"start\" x=\"549.5\" y=\"-37.8\" font-family=\"Times New Roman,serif\" font-size=\"14.00\">gini = 0.486</text>\r\n",
       "<text text-anchor=\"start\" x=\"542\" y=\"-22.8\" font-family=\"Times New Roman,serif\" font-size=\"14.00\">samples = 502</text>\r\n",
       "<text text-anchor=\"start\" x=\"532\" y=\"-7.8\" font-family=\"Times New Roman,serif\" font-size=\"14.00\">value = [293, 209]</text>\r\n",
       "</g>\r\n",
       "<!-- 9&#45;&gt;10 -->\r\n",
       "<g id=\"edge10\" class=\"edge\"><title>9&#45;&gt;10</title>\r\n",
       "<path fill=\"none\" stroke=\"black\" d=\"M606.409,-88.9485C603.168,-80.4408 599.669,-71.2562 596.389,-62.6464\"/>\r\n",
       "<polygon fill=\"black\" stroke=\"black\" points=\"599.635,-61.3356 592.804,-53.2367 593.094,-63.8276 599.635,-61.3356\"/>\r\n",
       "</g>\r\n",
       "<!-- 11 -->\r\n",
       "<g id=\"node12\" class=\"node\"><title>11</title>\r\n",
       "<polygon fill=\"#e58139\" fill-opacity=\"0.800000\" stroke=\"black\" points=\"778,-53 660,-53 660,-0 778,-0 778,-53\"/>\r\n",
       "<text text-anchor=\"start\" x=\"685.5\" y=\"-37.8\" font-family=\"Times New Roman,serif\" font-size=\"14.00\">gini = 0.278</text>\r\n",
       "<text text-anchor=\"start\" x=\"678\" y=\"-22.8\" font-family=\"Times New Roman,serif\" font-size=\"14.00\">samples = 706</text>\r\n",
       "<text text-anchor=\"start\" x=\"668\" y=\"-7.8\" font-family=\"Times New Roman,serif\" font-size=\"14.00\">value = [588, 118]</text>\r\n",
       "</g>\r\n",
       "<!-- 9&#45;&gt;11 -->\r\n",
       "<g id=\"edge11\" class=\"edge\"><title>9&#45;&gt;11</title>\r\n",
       "<path fill=\"none\" stroke=\"black\" d=\"M653.975,-88.9485C663.849,-79.6175 674.585,-69.4722 684.435,-60.1641\"/>\r\n",
       "<polygon fill=\"black\" stroke=\"black\" points=\"686.901,-62.649 691.765,-53.2367 682.093,-57.5613 686.901,-62.649\"/>\r\n",
       "</g>\r\n",
       "<!-- 13 -->\r\n",
       "<g id=\"node14\" class=\"node\"><title>13</title>\r\n",
       "<polygon fill=\"#399de5\" fill-opacity=\"0.592157\" stroke=\"black\" points=\"914,-53 796,-53 796,-0 914,-0 914,-53\"/>\r\n",
       "<text text-anchor=\"start\" x=\"821.5\" y=\"-37.8\" font-family=\"Times New Roman,serif\" font-size=\"14.00\">gini = 0.411</text>\r\n",
       "<text text-anchor=\"start\" x=\"814\" y=\"-22.8\" font-family=\"Times New Roman,serif\" font-size=\"14.00\">samples = 661</text>\r\n",
       "<text text-anchor=\"start\" x=\"804\" y=\"-7.8\" font-family=\"Times New Roman,serif\" font-size=\"14.00\">value = [191, 470]</text>\r\n",
       "</g>\r\n",
       "<!-- 12&#45;&gt;13 -->\r\n",
       "<g id=\"edge13\" class=\"edge\"><title>12&#45;&gt;13</title>\r\n",
       "<path fill=\"none\" stroke=\"black\" d=\"M855,-88.9485C855,-80.7153 855,-71.848 855,-63.4814\"/>\r\n",
       "<polygon fill=\"black\" stroke=\"black\" points=\"858.5,-63.2367 855,-53.2367 851.5,-63.2367 858.5,-63.2367\"/>\r\n",
       "</g>\r\n",
       "<!-- 14 -->\r\n",
       "<g id=\"node15\" class=\"node\"><title>14</title>\r\n",
       "<polygon fill=\"#e58139\" fill-opacity=\"0.290196\" stroke=\"black\" points=\"1050,-53 932,-53 932,-0 1050,-0 1050,-53\"/>\r\n",
       "<text text-anchor=\"start\" x=\"957.5\" y=\"-37.8\" font-family=\"Times New Roman,serif\" font-size=\"14.00\">gini = 0.486</text>\r\n",
       "<text text-anchor=\"start\" x=\"950\" y=\"-22.8\" font-family=\"Times New Roman,serif\" font-size=\"14.00\">samples = 805</text>\r\n",
       "<text text-anchor=\"start\" x=\"940\" y=\"-7.8\" font-family=\"Times New Roman,serif\" font-size=\"14.00\">value = [471, 334]</text>\r\n",
       "</g>\r\n",
       "<!-- 12&#45;&gt;14 -->\r\n",
       "<g id=\"edge14\" class=\"edge\"><title>12&#45;&gt;14</title>\r\n",
       "<path fill=\"none\" stroke=\"black\" d=\"M902.566,-88.9485C916.522,-79.2516 931.743,-68.6752 945.562,-59.073\"/>\r\n",
       "<polygon fill=\"black\" stroke=\"black\" points=\"947.746,-61.8172 953.961,-53.2367 943.752,-56.0687 947.746,-61.8172\"/>\r\n",
       "</g>\r\n",
       "</g>\r\n",
       "</svg>\r\n"
      ],
      "text/plain": [
       "<graphviz.files.Source at 0x16396ad28d0>"
      ]
     },
     "execution_count": 129,
     "metadata": {},
     "output_type": "execute_result"
    }
   ],
   "source": [
    "dot_data = tree.export_graphviz(dt_gi1,out_file=None,feature_names=train_x.columns,filled=True,special_characters=True,)\n",
    "graph = graphviz.Source(dot_data)\n",
    "graph"
   ]
  },
  {
   "cell_type": "code",
   "execution_count": 130,
   "metadata": {},
   "outputs": [
    {
     "data": {
      "image/svg+xml": [
       "<?xml version=\"1.0\" encoding=\"UTF-8\" standalone=\"no\"?>\r\n",
       "<!DOCTYPE svg PUBLIC \"-//W3C//DTD SVG 1.1//EN\"\r\n",
       " \"http://www.w3.org/Graphics/SVG/1.1/DTD/svg11.dtd\">\r\n",
       "<!-- Generated by graphviz version 2.38.0 (20140413.2041)\r\n",
       " -->\r\n",
       "<!-- Title: Tree Pages: 1 -->\r\n",
       "<svg width=\"1051pt\" height=\"373pt\"\r\n",
       " viewBox=\"0.00 0.00 1050.50 373.00\" xmlns=\"http://www.w3.org/2000/svg\" xmlns:xlink=\"http://www.w3.org/1999/xlink\">\r\n",
       "<g id=\"graph0\" class=\"graph\" transform=\"scale(1 1) rotate(0) translate(4 369)\">\r\n",
       "<title>Tree</title>\r\n",
       "<polygon fill=\"white\" stroke=\"none\" points=\"-4,4 -4,-369 1046.5,-369 1046.5,4 -4,4\"/>\r\n",
       "<!-- 0 -->\r\n",
       "<g id=\"node1\" class=\"node\"><title>0</title>\r\n",
       "<polygon fill=\"#e58139\" fill-opacity=\"0.647059\" stroke=\"black\" points=\"630,-365 433,-365 433,-297 630,-297 630,-365\"/>\r\n",
       "<text text-anchor=\"start\" x=\"441\" y=\"-349.8\" font-family=\"Times New Roman,serif\" font-size=\"14.00\">Contract_Month&#45;to&#45;month ≤ 0.5</text>\r\n",
       "<text text-anchor=\"start\" x=\"486.5\" y=\"-334.8\" font-family=\"Times New Roman,serif\" font-size=\"14.00\">entropy = 0.828</text>\r\n",
       "<text text-anchor=\"start\" x=\"487.5\" y=\"-319.8\" font-family=\"Times New Roman,serif\" font-size=\"14.00\">samples = 4930</text>\r\n",
       "<text text-anchor=\"start\" x=\"474\" y=\"-304.8\" font-family=\"Times New Roman,serif\" font-size=\"14.00\">value = [3645, 1285]</text>\r\n",
       "</g>\r\n",
       "<!-- 1 -->\r\n",
       "<g id=\"node2\" class=\"node\"><title>1</title>\r\n",
       "<polygon fill=\"#e58139\" fill-opacity=\"0.925490\" stroke=\"black\" points=\"500,-261 299,-261 299,-193 500,-193 500,-261\"/>\r\n",
       "<text text-anchor=\"start\" x=\"307\" y=\"-245.8\" font-family=\"Times New Roman,serif\" font-size=\"14.00\">InternetService_Fiber optic ≤ 0.5</text>\r\n",
       "<text text-anchor=\"start\" x=\"354.5\" y=\"-230.8\" font-family=\"Times New Roman,serif\" font-size=\"14.00\">entropy = 0.359</text>\r\n",
       "<text text-anchor=\"start\" x=\"355.5\" y=\"-215.8\" font-family=\"Times New Roman,serif\" font-size=\"14.00\">samples = 2256</text>\r\n",
       "<text text-anchor=\"start\" x=\"345\" y=\"-200.8\" font-family=\"Times New Roman,serif\" font-size=\"14.00\">value = [2102, 154]</text>\r\n",
       "</g>\r\n",
       "<!-- 0&#45;&gt;1 -->\r\n",
       "<g id=\"edge1\" class=\"edge\"><title>0&#45;&gt;1</title>\r\n",
       "<path fill=\"none\" stroke=\"black\" d=\"M488.643,-296.884C476.54,-287.531 463.247,-277.259 450.706,-267.568\"/>\r\n",
       "<polygon fill=\"black\" stroke=\"black\" points=\"452.646,-264.644 442.593,-261.299 448.366,-270.183 452.646,-264.644\"/>\r\n",
       "<text text-anchor=\"middle\" x=\"445.772\" y=\"-282.396\" font-family=\"Times New Roman,serif\" font-size=\"14.00\">True</text>\r\n",
       "</g>\r\n",
       "<!-- 8 -->\r\n",
       "<g id=\"node9\" class=\"node\"><title>8</title>\r\n",
       "<polygon fill=\"#e58139\" fill-opacity=\"0.266667\" stroke=\"black\" points=\"765,-261 564,-261 564,-193 765,-193 765,-261\"/>\r\n",
       "<text text-anchor=\"start\" x=\"572\" y=\"-245.8\" font-family=\"Times New Roman,serif\" font-size=\"14.00\">InternetService_Fiber optic ≤ 0.5</text>\r\n",
       "<text text-anchor=\"start\" x=\"619.5\" y=\"-230.8\" font-family=\"Times New Roman,serif\" font-size=\"14.00\">entropy = 0.983</text>\r\n",
       "<text text-anchor=\"start\" x=\"620.5\" y=\"-215.8\" font-family=\"Times New Roman,serif\" font-size=\"14.00\">samples = 2674</text>\r\n",
       "<text text-anchor=\"start\" x=\"607\" y=\"-200.8\" font-family=\"Times New Roman,serif\" font-size=\"14.00\">value = [1543, 1131]</text>\r\n",
       "</g>\r\n",
       "<!-- 0&#45;&gt;8 -->\r\n",
       "<g id=\"edge8\" class=\"edge\"><title>0&#45;&gt;8</title>\r\n",
       "<path fill=\"none\" stroke=\"black\" d=\"M574.681,-296.884C586.877,-287.531 600.27,-277.259 612.906,-267.568\"/>\r\n",
       "<polygon fill=\"black\" stroke=\"black\" points=\"615.275,-270.162 621.08,-261.299 611.015,-264.608 615.275,-270.162\"/>\r\n",
       "<text text-anchor=\"middle\" x=\"617.811\" y=\"-282.385\" font-family=\"Times New Roman,serif\" font-size=\"14.00\">False</text>\r\n",
       "</g>\r\n",
       "<!-- 2 -->\r\n",
       "<g id=\"node3\" class=\"node\"><title>2</title>\r\n",
       "<polygon fill=\"#e58139\" fill-opacity=\"0.960784\" stroke=\"black\" points=\"262,-157 107,-157 107,-89 262,-89 262,-157\"/>\r\n",
       "<text text-anchor=\"start\" x=\"115\" y=\"-141.8\" font-family=\"Times New Roman,serif\" font-size=\"14.00\">Contract_One year ≤ 0.5</text>\r\n",
       "<text text-anchor=\"start\" x=\"139.5\" y=\"-126.8\" font-family=\"Times New Roman,serif\" font-size=\"14.00\">entropy = 0.232</text>\r\n",
       "<text text-anchor=\"start\" x=\"140.5\" y=\"-111.8\" font-family=\"Times New Roman,serif\" font-size=\"14.00\">samples = 1565</text>\r\n",
       "<text text-anchor=\"start\" x=\"133.5\" y=\"-96.8\" font-family=\"Times New Roman,serif\" font-size=\"14.00\">value = [1506, 59]</text>\r\n",
       "</g>\r\n",
       "<!-- 1&#45;&gt;2 -->\r\n",
       "<g id=\"edge2\" class=\"edge\"><title>1&#45;&gt;2</title>\r\n",
       "<path fill=\"none\" stroke=\"black\" d=\"M329.696,-192.884C308.56,-182.856 285.198,-171.773 263.505,-161.482\"/>\r\n",
       "<polygon fill=\"black\" stroke=\"black\" points=\"264.857,-158.249 254.322,-157.125 261.856,-164.573 264.857,-158.249\"/>\r\n",
       "</g>\r\n",
       "<!-- 5 -->\r\n",
       "<g id=\"node6\" class=\"node\"><title>5</title>\r\n",
       "<polygon fill=\"#e58139\" fill-opacity=\"0.839216\" stroke=\"black\" points=\"477,-157 322,-157 322,-89 477,-89 477,-157\"/>\r\n",
       "<text text-anchor=\"start\" x=\"330\" y=\"-141.8\" font-family=\"Times New Roman,serif\" font-size=\"14.00\">Contract_One year ≤ 0.5</text>\r\n",
       "<text text-anchor=\"start\" x=\"354.5\" y=\"-126.8\" font-family=\"Times New Roman,serif\" font-size=\"14.00\">entropy = 0.578</text>\r\n",
       "<text text-anchor=\"start\" x=\"358.5\" y=\"-111.8\" font-family=\"Times New Roman,serif\" font-size=\"14.00\">samples = 691</text>\r\n",
       "<text text-anchor=\"start\" x=\"352\" y=\"-96.8\" font-family=\"Times New Roman,serif\" font-size=\"14.00\">value = [596, 95]</text>\r\n",
       "</g>\r\n",
       "<!-- 1&#45;&gt;5 -->\r\n",
       "<g id=\"edge5\" class=\"edge\"><title>1&#45;&gt;5</title>\r\n",
       "<path fill=\"none\" stroke=\"black\" d=\"M399.5,-192.884C399.5,-184.778 399.5,-175.982 399.5,-167.472\"/>\r\n",
       "<polygon fill=\"black\" stroke=\"black\" points=\"403,-167.299 399.5,-157.299 396,-167.299 403,-167.299\"/>\r\n",
       "</g>\r\n",
       "<!-- 3 -->\r\n",
       "<g id=\"node4\" class=\"node\"><title>3</title>\r\n",
       "<polygon fill=\"#e58139\" fill-opacity=\"0.984314\" stroke=\"black\" points=\"111,-53 0,-53 0,-0 111,-0 111,-53\"/>\r\n",
       "<text text-anchor=\"start\" x=\"10.5\" y=\"-37.8\" font-family=\"Times New Roman,serif\" font-size=\"14.00\">entropy = 0.103</text>\r\n",
       "<text text-anchor=\"start\" x=\"14.5\" y=\"-22.8\" font-family=\"Times New Roman,serif\" font-size=\"14.00\">samples = 886</text>\r\n",
       "<text text-anchor=\"start\" x=\"8\" y=\"-7.8\" font-family=\"Times New Roman,serif\" font-size=\"14.00\">value = [874, 12]</text>\r\n",
       "</g>\r\n",
       "<!-- 2&#45;&gt;3 -->\r\n",
       "<g id=\"edge3\" class=\"edge\"><title>2&#45;&gt;3</title>\r\n",
       "<path fill=\"none\" stroke=\"black\" d=\"M139.382,-88.9485C126.27,-79.3431 111.98,-68.8747 98.9709,-59.345\"/>\r\n",
       "<polygon fill=\"black\" stroke=\"black\" points=\"100.768,-56.3228 90.6326,-53.2367 96.6313,-61.9698 100.768,-56.3228\"/>\r\n",
       "</g>\r\n",
       "<!-- 4 -->\r\n",
       "<g id=\"node5\" class=\"node\"><title>4</title>\r\n",
       "<polygon fill=\"#e58139\" fill-opacity=\"0.925490\" stroke=\"black\" points=\"240,-53 129,-53 129,-0 240,-0 240,-53\"/>\r\n",
       "<text text-anchor=\"start\" x=\"139.5\" y=\"-37.8\" font-family=\"Times New Roman,serif\" font-size=\"14.00\">entropy = 0.363</text>\r\n",
       "<text text-anchor=\"start\" x=\"143.5\" y=\"-22.8\" font-family=\"Times New Roman,serif\" font-size=\"14.00\">samples = 679</text>\r\n",
       "<text text-anchor=\"start\" x=\"137\" y=\"-7.8\" font-family=\"Times New Roman,serif\" font-size=\"14.00\">value = [632, 47]</text>\r\n",
       "</g>\r\n",
       "<!-- 2&#45;&gt;4 -->\r\n",
       "<g id=\"edge4\" class=\"edge\"><title>2&#45;&gt;4</title>\r\n",
       "<path fill=\"none\" stroke=\"black\" d=\"M184.5,-88.9485C184.5,-80.7153 184.5,-71.848 184.5,-63.4814\"/>\r\n",
       "<polygon fill=\"black\" stroke=\"black\" points=\"188,-63.2367 184.5,-53.2367 181,-63.2367 188,-63.2367\"/>\r\n",
       "</g>\r\n",
       "<!-- 6 -->\r\n",
       "<g id=\"node7\" class=\"node\"><title>6</title>\r\n",
       "<polygon fill=\"#e58139\" fill-opacity=\"0.921569\" stroke=\"black\" points=\"369,-53 258,-53 258,-0 369,-0 369,-53\"/>\r\n",
       "<text text-anchor=\"start\" x=\"268.5\" y=\"-37.8\" font-family=\"Times New Roman,serif\" font-size=\"14.00\">entropy = 0.373</text>\r\n",
       "<text text-anchor=\"start\" x=\"272.5\" y=\"-22.8\" font-family=\"Times New Roman,serif\" font-size=\"14.00\">samples = 306</text>\r\n",
       "<text text-anchor=\"start\" x=\"266\" y=\"-7.8\" font-family=\"Times New Roman,serif\" font-size=\"14.00\">value = [284, 22]</text>\r\n",
       "</g>\r\n",
       "<!-- 5&#45;&gt;6 -->\r\n",
       "<g id=\"edge6\" class=\"edge\"><title>5&#45;&gt;6</title>\r\n",
       "<path fill=\"none\" stroke=\"black\" d=\"M369.421,-88.9485C361.096,-79.8005 352.059,-69.8697 343.725,-60.7126\"/>\r\n",
       "<polygon fill=\"black\" stroke=\"black\" points=\"346.241,-58.2769 336.922,-53.2367 341.064,-62.9883 346.241,-58.2769\"/>\r\n",
       "</g>\r\n",
       "<!-- 7 -->\r\n",
       "<g id=\"node8\" class=\"node\"><title>7</title>\r\n",
       "<polygon fill=\"#e58139\" fill-opacity=\"0.764706\" stroke=\"black\" points=\"498,-53 387,-53 387,-0 498,-0 498,-53\"/>\r\n",
       "<text text-anchor=\"start\" x=\"397.5\" y=\"-37.8\" font-family=\"Times New Roman,serif\" font-size=\"14.00\">entropy = 0.701</text>\r\n",
       "<text text-anchor=\"start\" x=\"401.5\" y=\"-22.8\" font-family=\"Times New Roman,serif\" font-size=\"14.00\">samples = 385</text>\r\n",
       "<text text-anchor=\"start\" x=\"395\" y=\"-7.8\" font-family=\"Times New Roman,serif\" font-size=\"14.00\">value = [312, 73]</text>\r\n",
       "</g>\r\n",
       "<!-- 5&#45;&gt;7 -->\r\n",
       "<g id=\"edge7\" class=\"edge\"><title>5&#45;&gt;7</title>\r\n",
       "<path fill=\"none\" stroke=\"black\" d=\"M414.539,-88.9485C418.452,-80.3494 422.68,-71.0586 426.634,-62.3689\"/>\r\n",
       "<polygon fill=\"black\" stroke=\"black\" points=\"429.833,-63.7883 430.789,-53.2367 423.462,-60.8891 429.833,-63.7883\"/>\r\n",
       "</g>\r\n",
       "<!-- 9 -->\r\n",
       "<g id=\"node10\" class=\"node\"><title>9</title>\r\n",
       "<polygon fill=\"#e58139\" fill-opacity=\"0.627451\" stroke=\"black\" points=\"723.5,-157 605.5,-157 605.5,-89 723.5,-89 723.5,-157\"/>\r\n",
       "<text text-anchor=\"start\" x=\"631\" y=\"-141.8\" font-family=\"Times New Roman,serif\" font-size=\"14.00\">tenure ≤ 5.5</text>\r\n",
       "<text text-anchor=\"start\" x=\"619.5\" y=\"-126.8\" font-family=\"Times New Roman,serif\" font-size=\"14.00\">entropy = 0.842</text>\r\n",
       "<text text-anchor=\"start\" x=\"620.5\" y=\"-111.8\" font-family=\"Times New Roman,serif\" font-size=\"14.00\">samples = 1208</text>\r\n",
       "<text text-anchor=\"start\" x=\"613.5\" y=\"-96.8\" font-family=\"Times New Roman,serif\" font-size=\"14.00\">value = [881, 327]</text>\r\n",
       "</g>\r\n",
       "<!-- 8&#45;&gt;9 -->\r\n",
       "<g id=\"edge9\" class=\"edge\"><title>8&#45;&gt;9</title>\r\n",
       "<path fill=\"none\" stroke=\"black\" d=\"M664.5,-192.884C664.5,-184.778 664.5,-175.982 664.5,-167.472\"/>\r\n",
       "<polygon fill=\"black\" stroke=\"black\" points=\"668,-167.299 664.5,-157.299 661,-167.299 668,-167.299\"/>\r\n",
       "</g>\r\n",
       "<!-- 12 -->\r\n",
       "<g id=\"node13\" class=\"node\"><title>12</title>\r\n",
       "<polygon fill=\"#399de5\" fill-opacity=\"0.176471\" stroke=\"black\" points=\"906.5,-157 788.5,-157 788.5,-89 906.5,-89 906.5,-157\"/>\r\n",
       "<text text-anchor=\"start\" x=\"811\" y=\"-141.8\" font-family=\"Times New Roman,serif\" font-size=\"14.00\">tenure ≤ 13.5</text>\r\n",
       "<text text-anchor=\"start\" x=\"802.5\" y=\"-126.8\" font-family=\"Times New Roman,serif\" font-size=\"14.00\">entropy = 0.993</text>\r\n",
       "<text text-anchor=\"start\" x=\"803.5\" y=\"-111.8\" font-family=\"Times New Roman,serif\" font-size=\"14.00\">samples = 1466</text>\r\n",
       "<text text-anchor=\"start\" x=\"796.5\" y=\"-96.8\" font-family=\"Times New Roman,serif\" font-size=\"14.00\">value = [662, 804]</text>\r\n",
       "</g>\r\n",
       "<!-- 8&#45;&gt;12 -->\r\n",
       "<g id=\"edge12\" class=\"edge\"><title>8&#45;&gt;12</title>\r\n",
       "<path fill=\"none\" stroke=\"black\" d=\"M723.915,-192.884C741.673,-182.985 761.278,-172.058 779.54,-161.879\"/>\r\n",
       "<polygon fill=\"black\" stroke=\"black\" points=\"781.352,-164.876 788.383,-156.95 777.944,-158.762 781.352,-164.876\"/>\r\n",
       "</g>\r\n",
       "<!-- 10 -->\r\n",
       "<g id=\"node11\" class=\"node\"><title>10</title>\r\n",
       "<polygon fill=\"#e58139\" fill-opacity=\"0.286275\" stroke=\"black\" points=\"634.5,-53 516.5,-53 516.5,-0 634.5,-0 634.5,-53\"/>\r\n",
       "<text text-anchor=\"start\" x=\"534\" y=\"-37.8\" font-family=\"Times New Roman,serif\" font-size=\"14.00\">entropy = 0.98</text>\r\n",
       "<text text-anchor=\"start\" x=\"534.5\" y=\"-22.8\" font-family=\"Times New Roman,serif\" font-size=\"14.00\">samples = 502</text>\r\n",
       "<text text-anchor=\"start\" x=\"524.5\" y=\"-7.8\" font-family=\"Times New Roman,serif\" font-size=\"14.00\">value = [293, 209]</text>\r\n",
       "</g>\r\n",
       "<!-- 9&#45;&gt;10 -->\r\n",
       "<g id=\"edge10\" class=\"edge\"><title>9&#45;&gt;10</title>\r\n",
       "<path fill=\"none\" stroke=\"black\" d=\"M633.372,-88.9485C624.757,-79.8005 615.404,-69.8697 606.78,-60.7126\"/>\r\n",
       "<polygon fill=\"black\" stroke=\"black\" points=\"609.143,-58.1168 599.739,-53.2367 604.047,-62.9161 609.143,-58.1168\"/>\r\n",
       "</g>\r\n",
       "<!-- 11 -->\r\n",
       "<g id=\"node12\" class=\"node\"><title>11</title>\r\n",
       "<polygon fill=\"#e58139\" fill-opacity=\"0.800000\" stroke=\"black\" points=\"770.5,-53 652.5,-53 652.5,-0 770.5,-0 770.5,-53\"/>\r\n",
       "<text text-anchor=\"start\" x=\"666.5\" y=\"-37.8\" font-family=\"Times New Roman,serif\" font-size=\"14.00\">entropy = 0.651</text>\r\n",
       "<text text-anchor=\"start\" x=\"670.5\" y=\"-22.8\" font-family=\"Times New Roman,serif\" font-size=\"14.00\">samples = 706</text>\r\n",
       "<text text-anchor=\"start\" x=\"660.5\" y=\"-7.8\" font-family=\"Times New Roman,serif\" font-size=\"14.00\">value = [588, 118]</text>\r\n",
       "</g>\r\n",
       "<!-- 9&#45;&gt;11 -->\r\n",
       "<g id=\"edge11\" class=\"edge\"><title>9&#45;&gt;11</title>\r\n",
       "<path fill=\"none\" stroke=\"black\" d=\"M680.938,-88.9485C685.215,-80.3494 689.836,-71.0586 694.158,-62.3689\"/>\r\n",
       "<polygon fill=\"black\" stroke=\"black\" points=\"697.38,-63.7491 698.7,-53.2367 691.113,-60.6318 697.38,-63.7491\"/>\r\n",
       "</g>\r\n",
       "<!-- 13 -->\r\n",
       "<g id=\"node14\" class=\"node\"><title>13</title>\r\n",
       "<polygon fill=\"#399de5\" fill-opacity=\"0.592157\" stroke=\"black\" points=\"906.5,-53 788.5,-53 788.5,-0 906.5,-0 906.5,-53\"/>\r\n",
       "<text text-anchor=\"start\" x=\"802.5\" y=\"-37.8\" font-family=\"Times New Roman,serif\" font-size=\"14.00\">entropy = 0.867</text>\r\n",
       "<text text-anchor=\"start\" x=\"806.5\" y=\"-22.8\" font-family=\"Times New Roman,serif\" font-size=\"14.00\">samples = 661</text>\r\n",
       "<text text-anchor=\"start\" x=\"796.5\" y=\"-7.8\" font-family=\"Times New Roman,serif\" font-size=\"14.00\">value = [191, 470]</text>\r\n",
       "</g>\r\n",
       "<!-- 12&#45;&gt;13 -->\r\n",
       "<g id=\"edge13\" class=\"edge\"><title>12&#45;&gt;13</title>\r\n",
       "<path fill=\"none\" stroke=\"black\" d=\"M847.5,-88.9485C847.5,-80.7153 847.5,-71.848 847.5,-63.4814\"/>\r\n",
       "<polygon fill=\"black\" stroke=\"black\" points=\"851,-63.2367 847.5,-53.2367 844,-63.2367 851,-63.2367\"/>\r\n",
       "</g>\r\n",
       "<!-- 14 -->\r\n",
       "<g id=\"node15\" class=\"node\"><title>14</title>\r\n",
       "<polygon fill=\"#e58139\" fill-opacity=\"0.290196\" stroke=\"black\" points=\"1042.5,-53 924.5,-53 924.5,-0 1042.5,-0 1042.5,-53\"/>\r\n",
       "<text text-anchor=\"start\" x=\"938.5\" y=\"-37.8\" font-family=\"Times New Roman,serif\" font-size=\"14.00\">entropy = 0.979</text>\r\n",
       "<text text-anchor=\"start\" x=\"942.5\" y=\"-22.8\" font-family=\"Times New Roman,serif\" font-size=\"14.00\">samples = 805</text>\r\n",
       "<text text-anchor=\"start\" x=\"932.5\" y=\"-7.8\" font-family=\"Times New Roman,serif\" font-size=\"14.00\">value = [471, 334]</text>\r\n",
       "</g>\r\n",
       "<!-- 12&#45;&gt;14 -->\r\n",
       "<g id=\"edge14\" class=\"edge\"><title>12&#45;&gt;14</title>\r\n",
       "<path fill=\"none\" stroke=\"black\" d=\"M895.066,-88.9485C909.022,-79.2516 924.243,-68.6752 938.062,-59.073\"/>\r\n",
       "<polygon fill=\"black\" stroke=\"black\" points=\"940.246,-61.8172 946.461,-53.2367 936.252,-56.0687 940.246,-61.8172\"/>\r\n",
       "</g>\r\n",
       "</g>\r\n",
       "</svg>\r\n"
      ],
      "text/plain": [
       "<graphviz.files.Source at 0x16396adb7b8>"
      ]
     },
     "execution_count": 130,
     "metadata": {},
     "output_type": "execute_result"
    }
   ],
   "source": [
    "dot_data = tree.export_graphviz(dt_en1,out_file=None,feature_names=train_x.columns,filled=True,special_characters=True,)\n",
    "graph = graphviz.Source(dot_data)\n",
    "graph"
   ]
  },
  {
   "cell_type": "code",
   "execution_count": 131,
   "metadata": {},
   "outputs": [
    {
     "data": {
      "image/svg+xml": [
       "<?xml version=\"1.0\" encoding=\"UTF-8\" standalone=\"no\"?>\r\n",
       "<!DOCTYPE svg PUBLIC \"-//W3C//DTD SVG 1.1//EN\"\r\n",
       " \"http://www.w3.org/Graphics/SVG/1.1/DTD/svg11.dtd\">\r\n",
       "<!-- Generated by graphviz version 2.38.0 (20140413.2041)\r\n",
       " -->\r\n",
       "<!-- Title: Tree Pages: 1 -->\r\n",
       "<svg width=\"1039pt\" height=\"373pt\"\r\n",
       " viewBox=\"0.00 0.00 1038.50 373.00\" xmlns=\"http://www.w3.org/2000/svg\" xmlns:xlink=\"http://www.w3.org/1999/xlink\">\r\n",
       "<g id=\"graph0\" class=\"graph\" transform=\"scale(1 1) rotate(0) translate(4 369)\">\r\n",
       "<title>Tree</title>\r\n",
       "<polygon fill=\"white\" stroke=\"none\" points=\"-4,4 -4,-369 1034.5,-369 1034.5,4 -4,4\"/>\r\n",
       "<!-- 0 -->\r\n",
       "<g id=\"node1\" class=\"node\"><title>0</title>\r\n",
       "<polygon fill=\"#e58139\" fill-opacity=\"0.650980\" stroke=\"black\" points=\"589.5,-365 458.5,-365 458.5,-297 589.5,-297 589.5,-365\"/>\r\n",
       "<text text-anchor=\"start\" x=\"483\" y=\"-349.8\" font-family=\"Times New Roman,serif\" font-size=\"14.00\">Contract ≤ 0.5</text>\r\n",
       "<text text-anchor=\"start\" x=\"479\" y=\"-334.8\" font-family=\"Times New Roman,serif\" font-size=\"14.00\">entropy = 0.826</text>\r\n",
       "<text text-anchor=\"start\" x=\"480\" y=\"-319.8\" font-family=\"Times New Roman,serif\" font-size=\"14.00\">samples = 4930</text>\r\n",
       "<text text-anchor=\"start\" x=\"466.5\" y=\"-304.8\" font-family=\"Times New Roman,serif\" font-size=\"14.00\">value = [3651, 1279]</text>\r\n",
       "</g>\r\n",
       "<!-- 1 -->\r\n",
       "<g id=\"node2\" class=\"node\"><title>1</title>\r\n",
       "<polygon fill=\"#e58139\" fill-opacity=\"0.278431\" stroke=\"black\" points=\"489.5,-261 358.5,-261 358.5,-193 489.5,-193 489.5,-261\"/>\r\n",
       "<text text-anchor=\"start\" x=\"366.5\" y=\"-245.8\" font-family=\"Times New Roman,serif\" font-size=\"14.00\">OnlineSecurity ≤ 0.5</text>\r\n",
       "<text text-anchor=\"start\" x=\"379\" y=\"-230.8\" font-family=\"Times New Roman,serif\" font-size=\"14.00\">entropy = 0.981</text>\r\n",
       "<text text-anchor=\"start\" x=\"380\" y=\"-215.8\" font-family=\"Times New Roman,serif\" font-size=\"14.00\">samples = 2696</text>\r\n",
       "<text text-anchor=\"start\" x=\"366.5\" y=\"-200.8\" font-family=\"Times New Roman,serif\" font-size=\"14.00\">value = [1566, 1130]</text>\r\n",
       "</g>\r\n",
       "<!-- 0&#45;&gt;1 -->\r\n",
       "<g id=\"edge1\" class=\"edge\"><title>0&#45;&gt;1</title>\r\n",
       "<path fill=\"none\" stroke=\"black\" d=\"M491.533,-296.884C482.713,-287.887 473.059,-278.041 463.881,-268.678\"/>\r\n",
       "<polygon fill=\"black\" stroke=\"black\" points=\"466.146,-265.99 456.646,-261.299 461.148,-270.89 466.146,-265.99\"/>\r\n",
       "<text text-anchor=\"middle\" x=\"456.399\" y=\"-282.598\" font-family=\"Times New Roman,serif\" font-size=\"14.00\">True</text>\r\n",
       "</g>\r\n",
       "<!-- 8 -->\r\n",
       "<g id=\"node9\" class=\"node\"><title>8</title>\r\n",
       "<polygon fill=\"#e58139\" fill-opacity=\"0.929412\" stroke=\"black\" points=\"705.5,-261 544.5,-261 544.5,-193 705.5,-193 705.5,-261\"/>\r\n",
       "<text text-anchor=\"start\" x=\"552.5\" y=\"-245.8\" font-family=\"Times New Roman,serif\" font-size=\"14.00\">MonthlyCharges ≤ 93.675</text>\r\n",
       "<text text-anchor=\"start\" x=\"580\" y=\"-230.8\" font-family=\"Times New Roman,serif\" font-size=\"14.00\">entropy = 0.353</text>\r\n",
       "<text text-anchor=\"start\" x=\"581\" y=\"-215.8\" font-family=\"Times New Roman,serif\" font-size=\"14.00\">samples = 2234</text>\r\n",
       "<text text-anchor=\"start\" x=\"570.5\" y=\"-200.8\" font-family=\"Times New Roman,serif\" font-size=\"14.00\">value = [2085, 149]</text>\r\n",
       "</g>\r\n",
       "<!-- 0&#45;&gt;8 -->\r\n",
       "<g id=\"edge8\" class=\"edge\"><title>0&#45;&gt;8</title>\r\n",
       "<path fill=\"none\" stroke=\"black\" d=\"M556.792,-296.884C565.7,-287.887 575.45,-278.041 584.72,-268.678\"/>\r\n",
       "<polygon fill=\"black\" stroke=\"black\" points=\"587.478,-270.868 592.027,-261.299 582.504,-265.943 587.478,-270.868\"/>\r\n",
       "<text text-anchor=\"middle\" x=\"592.15\" y=\"-282.599\" font-family=\"Times New Roman,serif\" font-size=\"14.00\">False</text>\r\n",
       "</g>\r\n",
       "<!-- 2 -->\r\n",
       "<g id=\"node3\" class=\"node\"><title>2</title>\r\n",
       "<polygon fill=\"#399de5\" fill-opacity=\"0.023529\" stroke=\"black\" points=\"254,-157 136,-157 136,-89 254,-89 254,-157\"/>\r\n",
       "<text text-anchor=\"start\" x=\"161.5\" y=\"-141.8\" font-family=\"Times New Roman,serif\" font-size=\"14.00\">tenure ≤ 5.5</text>\r\n",
       "<text text-anchor=\"start\" x=\"157\" y=\"-126.8\" font-family=\"Times New Roman,serif\" font-size=\"14.00\">entropy = 1.0</text>\r\n",
       "<text text-anchor=\"start\" x=\"151\" y=\"-111.8\" font-family=\"Times New Roman,serif\" font-size=\"14.00\">samples = 1833</text>\r\n",
       "<text text-anchor=\"start\" x=\"144\" y=\"-96.8\" font-family=\"Times New Roman,serif\" font-size=\"14.00\">value = [906, 927]</text>\r\n",
       "</g>\r\n",
       "<!-- 1&#45;&gt;2 -->\r\n",
       "<g id=\"edge2\" class=\"edge\"><title>1&#45;&gt;2</title>\r\n",
       "<path fill=\"none\" stroke=\"black\" d=\"M358.378,-196.771C328.673,-183.54 293.566,-167.903 263.523,-154.521\"/>\r\n",
       "<polygon fill=\"black\" stroke=\"black\" points=\"264.932,-151.317 254.373,-150.446 262.084,-157.712 264.932,-151.317\"/>\r\n",
       "</g>\r\n",
       "<!-- 5 -->\r\n",
       "<g id=\"node6\" class=\"node\"><title>5</title>\r\n",
       "<polygon fill=\"#e58139\" fill-opacity=\"0.694118\" stroke=\"black\" points=\"501.5,-157 346.5,-157 346.5,-89 501.5,-89 501.5,-157\"/>\r\n",
       "<text text-anchor=\"start\" x=\"354.5\" y=\"-141.8\" font-family=\"Times New Roman,serif\" font-size=\"14.00\">MonthlyCharges ≤ 91.45</text>\r\n",
       "<text text-anchor=\"start\" x=\"379\" y=\"-126.8\" font-family=\"Times New Roman,serif\" font-size=\"14.00\">entropy = 0.787</text>\r\n",
       "<text text-anchor=\"start\" x=\"383\" y=\"-111.8\" font-family=\"Times New Roman,serif\" font-size=\"14.00\">samples = 863</text>\r\n",
       "<text text-anchor=\"start\" x=\"373\" y=\"-96.8\" font-family=\"Times New Roman,serif\" font-size=\"14.00\">value = [660, 203]</text>\r\n",
       "</g>\r\n",
       "<!-- 1&#45;&gt;5 -->\r\n",
       "<g id=\"edge5\" class=\"edge\"><title>1&#45;&gt;5</title>\r\n",
       "<path fill=\"none\" stroke=\"black\" d=\"M424,-192.884C424,-184.778 424,-175.982 424,-167.472\"/>\r\n",
       "<polygon fill=\"black\" stroke=\"black\" points=\"427.5,-167.299 424,-157.299 420.5,-167.299 427.5,-167.299\"/>\r\n",
       "</g>\r\n",
       "<!-- 3 -->\r\n",
       "<g id=\"node4\" class=\"node\"><title>3</title>\r\n",
       "<polygon fill=\"#399de5\" fill-opacity=\"0.521569\" stroke=\"black\" points=\"118,-53 0,-53 0,-0 118,-0 118,-53\"/>\r\n",
       "<text text-anchor=\"start\" x=\"14\" y=\"-37.8\" font-family=\"Times New Roman,serif\" font-size=\"14.00\">entropy = 0.909</text>\r\n",
       "<text text-anchor=\"start\" x=\"18\" y=\"-22.8\" font-family=\"Times New Roman,serif\" font-size=\"14.00\">samples = 639</text>\r\n",
       "<text text-anchor=\"start\" x=\"8\" y=\"-7.8\" font-family=\"Times New Roman,serif\" font-size=\"14.00\">value = [207, 432]</text>\r\n",
       "</g>\r\n",
       "<!-- 2&#45;&gt;3 -->\r\n",
       "<g id=\"edge3\" class=\"edge\"><title>2&#45;&gt;3</title>\r\n",
       "<path fill=\"none\" stroke=\"black\" d=\"M147.434,-88.9485C133.478,-79.2516 118.257,-68.6752 104.438,-59.073\"/>\r\n",
       "<polygon fill=\"black\" stroke=\"black\" points=\"106.248,-56.0687 96.0391,-53.2367 102.254,-61.8172 106.248,-56.0687\"/>\r\n",
       "</g>\r\n",
       "<!-- 4 -->\r\n",
       "<g id=\"node5\" class=\"node\"><title>4</title>\r\n",
       "<polygon fill=\"#e58139\" fill-opacity=\"0.290196\" stroke=\"black\" points=\"254,-53 136,-53 136,-0 254,-0 254,-53\"/>\r\n",
       "<text text-anchor=\"start\" x=\"150\" y=\"-37.8\" font-family=\"Times New Roman,serif\" font-size=\"14.00\">entropy = 0.979</text>\r\n",
       "<text text-anchor=\"start\" x=\"151\" y=\"-22.8\" font-family=\"Times New Roman,serif\" font-size=\"14.00\">samples = 1194</text>\r\n",
       "<text text-anchor=\"start\" x=\"144\" y=\"-7.8\" font-family=\"Times New Roman,serif\" font-size=\"14.00\">value = [699, 495]</text>\r\n",
       "</g>\r\n",
       "<!-- 2&#45;&gt;4 -->\r\n",
       "<g id=\"edge4\" class=\"edge\"><title>2&#45;&gt;4</title>\r\n",
       "<path fill=\"none\" stroke=\"black\" d=\"M195,-88.9485C195,-80.7153 195,-71.848 195,-63.4814\"/>\r\n",
       "<polygon fill=\"black\" stroke=\"black\" points=\"198.5,-63.2367 195,-53.2367 191.5,-63.2367 198.5,-63.2367\"/>\r\n",
       "</g>\r\n",
       "<!-- 6 -->\r\n",
       "<g id=\"node7\" class=\"node\"><title>6</title>\r\n",
       "<polygon fill=\"#e58139\" fill-opacity=\"0.737255\" stroke=\"black\" points=\"390,-53 272,-53 272,-0 390,-0 390,-53\"/>\r\n",
       "<text text-anchor=\"start\" x=\"286\" y=\"-37.8\" font-family=\"Times New Roman,serif\" font-size=\"14.00\">entropy = 0.739</text>\r\n",
       "<text text-anchor=\"start\" x=\"290\" y=\"-22.8\" font-family=\"Times New Roman,serif\" font-size=\"14.00\">samples = 734</text>\r\n",
       "<text text-anchor=\"start\" x=\"280\" y=\"-7.8\" font-family=\"Times New Roman,serif\" font-size=\"14.00\">value = [581, 153]</text>\r\n",
       "</g>\r\n",
       "<!-- 5&#45;&gt;6 -->\r\n",
       "<g id=\"edge6\" class=\"edge\"><title>5&#45;&gt;6</title>\r\n",
       "<path fill=\"none\" stroke=\"black\" d=\"M391.473,-88.9485C382.38,-79.709 372.502,-69.671 363.415,-60.4381\"/>\r\n",
       "<polygon fill=\"black\" stroke=\"black\" points=\"365.837,-57.9091 356.328,-53.2367 360.848,-62.8191 365.837,-57.9091\"/>\r\n",
       "</g>\r\n",
       "<!-- 7 -->\r\n",
       "<g id=\"node8\" class=\"node\"><title>7</title>\r\n",
       "<polygon fill=\"#e58139\" fill-opacity=\"0.368627\" stroke=\"black\" points=\"514,-53 408,-53 408,-0 514,-0 514,-53\"/>\r\n",
       "<text text-anchor=\"start\" x=\"416\" y=\"-37.8\" font-family=\"Times New Roman,serif\" font-size=\"14.00\">entropy = 0.963</text>\r\n",
       "<text text-anchor=\"start\" x=\"420\" y=\"-22.8\" font-family=\"Times New Roman,serif\" font-size=\"14.00\">samples = 129</text>\r\n",
       "<text text-anchor=\"start\" x=\"417\" y=\"-7.8\" font-family=\"Times New Roman,serif\" font-size=\"14.00\">value = [79, 50]</text>\r\n",
       "</g>\r\n",
       "<!-- 5&#45;&gt;7 -->\r\n",
       "<g id=\"edge7\" class=\"edge\"><title>5&#45;&gt;7</title>\r\n",
       "<path fill=\"none\" stroke=\"black\" d=\"M436.941,-88.9485C440.272,-80.4408 443.868,-71.2562 447.239,-62.6464\"/>\r\n",
       "<polygon fill=\"black\" stroke=\"black\" points=\"450.536,-63.8245 450.923,-53.2367 444.018,-61.2723 450.536,-63.8245\"/>\r\n",
       "</g>\r\n",
       "<!-- 9 -->\r\n",
       "<g id=\"node10\" class=\"node\"><title>9</title>\r\n",
       "<polygon fill=\"#e58139\" fill-opacity=\"0.960784\" stroke=\"black\" points=\"684,-157 566,-157 566,-89 684,-89 684,-157\"/>\r\n",
       "<text text-anchor=\"start\" x=\"584\" y=\"-141.8\" font-family=\"Times New Roman,serif\" font-size=\"14.00\">Contract ≤ 1.5</text>\r\n",
       "<text text-anchor=\"start\" x=\"580\" y=\"-126.8\" font-family=\"Times New Roman,serif\" font-size=\"14.00\">entropy = 0.235</text>\r\n",
       "<text text-anchor=\"start\" x=\"581\" y=\"-111.8\" font-family=\"Times New Roman,serif\" font-size=\"14.00\">samples = 1694</text>\r\n",
       "<text text-anchor=\"start\" x=\"574\" y=\"-96.8\" font-family=\"Times New Roman,serif\" font-size=\"14.00\">value = [1629, 65]</text>\r\n",
       "</g>\r\n",
       "<!-- 8&#45;&gt;9 -->\r\n",
       "<g id=\"edge9\" class=\"edge\"><title>8&#45;&gt;9</title>\r\n",
       "<path fill=\"none\" stroke=\"black\" d=\"M625,-192.884C625,-184.778 625,-175.982 625,-167.472\"/>\r\n",
       "<polygon fill=\"black\" stroke=\"black\" points=\"628.5,-167.299 625,-157.299 621.5,-167.299 628.5,-167.299\"/>\r\n",
       "</g>\r\n",
       "<!-- 12 -->\r\n",
       "<g id=\"node13\" class=\"node\"><title>12</title>\r\n",
       "<polygon fill=\"#e58139\" fill-opacity=\"0.815686\" stroke=\"black\" points=\"901.5,-157 790.5,-157 790.5,-89 901.5,-89 901.5,-157\"/>\r\n",
       "<text text-anchor=\"start\" x=\"805\" y=\"-141.8\" font-family=\"Times New Roman,serif\" font-size=\"14.00\">Contract ≤ 1.5</text>\r\n",
       "<text text-anchor=\"start\" x=\"801\" y=\"-126.8\" font-family=\"Times New Roman,serif\" font-size=\"14.00\">entropy = 0.624</text>\r\n",
       "<text text-anchor=\"start\" x=\"805\" y=\"-111.8\" font-family=\"Times New Roman,serif\" font-size=\"14.00\">samples = 540</text>\r\n",
       "<text text-anchor=\"start\" x=\"798.5\" y=\"-96.8\" font-family=\"Times New Roman,serif\" font-size=\"14.00\">value = [456, 84]</text>\r\n",
       "</g>\r\n",
       "<!-- 8&#45;&gt;12 -->\r\n",
       "<g id=\"edge12\" class=\"edge\"><title>8&#45;&gt;12</title>\r\n",
       "<path fill=\"none\" stroke=\"black\" d=\"M696.752,-192.884C723.924,-180.343 754.674,-166.151 781.171,-153.921\"/>\r\n",
       "<polygon fill=\"black\" stroke=\"black\" points=\"782.741,-157.051 790.354,-149.683 779.808,-150.696 782.741,-157.051\"/>\r\n",
       "</g>\r\n",
       "<!-- 10 -->\r\n",
       "<g id=\"node11\" class=\"node\"><title>10</title>\r\n",
       "<polygon fill=\"#e58139\" fill-opacity=\"0.925490\" stroke=\"black\" points=\"643.5,-53 532.5,-53 532.5,-0 643.5,-0 643.5,-53\"/>\r\n",
       "<text text-anchor=\"start\" x=\"543\" y=\"-37.8\" font-family=\"Times New Roman,serif\" font-size=\"14.00\">entropy = 0.364</text>\r\n",
       "<text text-anchor=\"start\" x=\"547\" y=\"-22.8\" font-family=\"Times New Roman,serif\" font-size=\"14.00\">samples = 748</text>\r\n",
       "<text text-anchor=\"start\" x=\"540.5\" y=\"-7.8\" font-family=\"Times New Roman,serif\" font-size=\"14.00\">value = [696, 52]</text>\r\n",
       "</g>\r\n",
       "<!-- 9&#45;&gt;10 -->\r\n",
       "<g id=\"edge10\" class=\"edge\"><title>9&#45;&gt;10</title>\r\n",
       "<path fill=\"none\" stroke=\"black\" d=\"M612.059,-88.9485C608.728,-80.4408 605.132,-71.2562 601.761,-62.6464\"/>\r\n",
       "<polygon fill=\"black\" stroke=\"black\" points=\"604.982,-61.2723 598.077,-53.2367 598.464,-63.8245 604.982,-61.2723\"/>\r\n",
       "</g>\r\n",
       "<!-- 11 -->\r\n",
       "<g id=\"node12\" class=\"node\"><title>11</title>\r\n",
       "<polygon fill=\"#e58139\" fill-opacity=\"0.984314\" stroke=\"black\" points=\"772.5,-53 661.5,-53 661.5,-0 772.5,-0 772.5,-53\"/>\r\n",
       "<text text-anchor=\"start\" x=\"672\" y=\"-37.8\" font-family=\"Times New Roman,serif\" font-size=\"14.00\">entropy = 0.105</text>\r\n",
       "<text text-anchor=\"start\" x=\"676\" y=\"-22.8\" font-family=\"Times New Roman,serif\" font-size=\"14.00\">samples = 946</text>\r\n",
       "<text text-anchor=\"start\" x=\"669.5\" y=\"-7.8\" font-family=\"Times New Roman,serif\" font-size=\"14.00\">value = [933, 13]</text>\r\n",
       "</g>\r\n",
       "<!-- 9&#45;&gt;11 -->\r\n",
       "<g id=\"edge11\" class=\"edge\"><title>9&#45;&gt;11</title>\r\n",
       "<path fill=\"none\" stroke=\"black\" d=\"M657.177,-88.9485C666.172,-79.709 675.945,-69.671 684.933,-60.4381\"/>\r\n",
       "<polygon fill=\"black\" stroke=\"black\" points=\"687.476,-62.8434 691.944,-53.2367 682.461,-57.9605 687.476,-62.8434\"/>\r\n",
       "</g>\r\n",
       "<!-- 13 -->\r\n",
       "<g id=\"node14\" class=\"node\"><title>13</title>\r\n",
       "<polygon fill=\"#e58139\" fill-opacity=\"0.717647\" stroke=\"black\" points=\"901.5,-53 790.5,-53 790.5,-0 901.5,-0 901.5,-53\"/>\r\n",
       "<text text-anchor=\"start\" x=\"804.5\" y=\"-37.8\" font-family=\"Times New Roman,serif\" font-size=\"14.00\">entropy = 0.76</text>\r\n",
       "<text text-anchor=\"start\" x=\"805\" y=\"-22.8\" font-family=\"Times New Roman,serif\" font-size=\"14.00\">samples = 282</text>\r\n",
       "<text text-anchor=\"start\" x=\"798.5\" y=\"-7.8\" font-family=\"Times New Roman,serif\" font-size=\"14.00\">value = [220, 62]</text>\r\n",
       "</g>\r\n",
       "<!-- 12&#45;&gt;13 -->\r\n",
       "<g id=\"edge13\" class=\"edge\"><title>12&#45;&gt;13</title>\r\n",
       "<path fill=\"none\" stroke=\"black\" d=\"M846,-88.9485C846,-80.7153 846,-71.848 846,-63.4814\"/>\r\n",
       "<polygon fill=\"black\" stroke=\"black\" points=\"849.5,-63.2367 846,-53.2367 842.5,-63.2367 849.5,-63.2367\"/>\r\n",
       "</g>\r\n",
       "<!-- 14 -->\r\n",
       "<g id=\"node15\" class=\"node\"><title>14</title>\r\n",
       "<polygon fill=\"#e58139\" fill-opacity=\"0.905882\" stroke=\"black\" points=\"1030.5,-53 919.5,-53 919.5,-0 1030.5,-0 1030.5,-53\"/>\r\n",
       "<text text-anchor=\"start\" x=\"933.5\" y=\"-37.8\" font-family=\"Times New Roman,serif\" font-size=\"14.00\">entropy = 0.42</text>\r\n",
       "<text text-anchor=\"start\" x=\"934\" y=\"-22.8\" font-family=\"Times New Roman,serif\" font-size=\"14.00\">samples = 258</text>\r\n",
       "<text text-anchor=\"start\" x=\"927.5\" y=\"-7.8\" font-family=\"Times New Roman,serif\" font-size=\"14.00\">value = [236, 22]</text>\r\n",
       "</g>\r\n",
       "<!-- 12&#45;&gt;14 -->\r\n",
       "<g id=\"edge14\" class=\"edge\"><title>12&#45;&gt;14</title>\r\n",
       "<path fill=\"none\" stroke=\"black\" d=\"M891.118,-88.9485C904.23,-79.3431 918.52,-68.8747 931.529,-59.345\"/>\r\n",
       "<polygon fill=\"black\" stroke=\"black\" points=\"933.869,-61.9698 939.867,-53.2367 929.732,-56.3228 933.869,-61.9698\"/>\r\n",
       "</g>\r\n",
       "</g>\r\n",
       "</svg>\r\n"
      ],
      "text/plain": [
       "<graphviz.files.Source at 0x16396aeecf8>"
      ]
     },
     "execution_count": 131,
     "metadata": {},
     "output_type": "execute_result"
    }
   ],
   "source": [
    "dot_data = tree.export_graphviz(dt_en,out_file=None,feature_names=x_train.columns,filled=True,special_characters=True,)\n",
    "graph = graphviz.Source(dot_data)\n",
    "graph"
   ]
  },
  {
   "cell_type": "code",
   "execution_count": 132,
   "metadata": {},
   "outputs": [
    {
     "name": "stdout",
     "output_type": "stream",
     "text": [
      "Accuracy Score:\n"
     ]
    },
    {
     "data": {
      "text/plain": [
       "0.763369616658779"
      ]
     },
     "execution_count": 132,
     "metadata": {},
     "output_type": "execute_result"
    },
    {
     "data": {
      "text/plain": [
       "0.6583057264552769"
      ]
     },
     "execution_count": 132,
     "metadata": {},
     "output_type": "execute_result"
    },
    {
     "data": {
      "text/plain": [
       "0.6753431140558448"
      ]
     },
     "execution_count": 132,
     "metadata": {},
     "output_type": "execute_result"
    },
    {
     "data": {
      "text/plain": [
       "0.7747278750591576"
      ]
     },
     "execution_count": 132,
     "metadata": {},
     "output_type": "execute_result"
    }
   ],
   "source": [
    "print(\"Accuracy Score:\")\n",
    "metrics.accuracy_score(y_test,y_pred_gini)\n",
    "metrics.accuracy_score(y_test,y_pred_gini1)\n",
    "metrics.accuracy_score(test_y,y_pred_entropy)\n",
    "metrics.accuracy_score(test_y,y_pred_entropy1)"
   ]
  },
  {
   "cell_type": "code",
   "execution_count": 135,
   "metadata": {},
   "outputs": [
    {
     "name": "stdout",
     "output_type": "stream",
     "text": [
      "Precission and Recall Score:\n",
      "             precision    recall  f1-score   support\n",
      "\n",
      "          0       0.78      0.94      0.85      1523\n",
      "          1       0.66      0.31      0.42       590\n",
      "\n",
      "avg / total       0.75      0.76      0.73      2113\n",
      "\n",
      "             precision    recall  f1-score   support\n",
      "\n",
      "          0       0.72      0.86      0.78      1523\n",
      "          1       0.28      0.14      0.19       590\n",
      "\n",
      "avg / total       0.60      0.66      0.62      2113\n",
      "\n",
      "             precision    recall  f1-score   support\n",
      "\n",
      "          0       0.73      0.88      0.80      1529\n",
      "          1       0.32      0.15      0.20       584\n",
      "\n",
      "avg / total       0.61      0.68      0.63      2113\n",
      "\n",
      "             precision    recall  f1-score   support\n",
      "\n",
      "          0       0.79      0.94      0.86      1529\n",
      "          1       0.68      0.35      0.46       584\n",
      "\n",
      "avg / total       0.76      0.77      0.75      2113\n",
      "\n"
     ]
    }
   ],
   "source": [
    "print(\"Precission and Recall Score:\")\n",
    "print(metrics.classification_report(y_test,y_pred_gini))\n",
    "print(metrics.classification_report(y_test,y_pred_gini1))\n",
    "print(metrics.classification_report(test_y,y_pred_entropy))\n",
    "print(metrics.classification_report(test_y,y_pred_entropy1))"
   ]
  },
  {
   "cell_type": "code",
   "execution_count": 137,
   "metadata": {},
   "outputs": [],
   "source": [
    "fpr,tpr,th = metrics.roc_curve(y_test,y_pred_gini)\n",
    "fpr1,tpr1,th1 = metrics.roc_curve(y_test,y_pred_gini1)\n",
    "fpr2,tpr2,th2 = metrics.roc_curve(test_y,y_pred_entropy)\n",
    "fpr3,tpr3,th3 = metrics.roc_curve(test_y,y_pred_entropy1)\n",
    "roc_auc = metrics.auc(fpr,tpr)\n",
    "roc_auc1 = metrics.auc(fpr1,tpr1)\n",
    "roc_auc2 = metrics.auc(fpr2,tpr2)\n",
    "roc_auc3 = metrics.auc(fpr3,tpr3)"
   ]
  },
  {
   "cell_type": "code",
   "execution_count": 138,
   "metadata": {},
   "outputs": [
    {
     "name": "stdout",
     "output_type": "stream",
     "text": [
      "ROCR Chart\n"
     ]
    },
    {
     "data": {
      "image/png": "[encoded data removed]",
      "text/plain": [
       "<Figure size 432x288 with 1 Axes>"
      ]
     },
     "metadata": {},
     "output_type": "display_data"
    }
   ],
   "source": [
    "print(\"ROCR Chart\")\n",
    "plt.plot(fpr,tpr,label = 'AUC = %0.2f'%roc_auc)\n",
    "plt.legend(loc='lower right')\n",
    "plt.plot([0,1],[0,1],'o--')\n",
    "plt.xlim([0,1])\n",
    "plt.ylim([0,1])\n",
    "plt.ylabel('True Positive Rate')\n",
    "plt.xlabel('False Positive Rate')\n",
    "plt.show();"
   ]
  },
  {
   "cell_type": "code",
   "execution_count": 139,
   "metadata": {},
   "outputs": [
    {
     "name": "stdout",
     "output_type": "stream",
     "text": [
      "ROCR Chart\n"
     ]
    },
    {
     "data": {
      "image/png": "[encoded data removed]",
      "text/plain": [
       "<Figure size 432x288 with 1 Axes>"
      ]
     },
     "metadata": {},
     "output_type": "display_data"
    }
   ],
   "source": [
    "print(\"ROCR Chart\")\n",
    "plt.plot(fpr,tpr,label = 'AUC = %0.2f'%roc_auc1)\n",
    "plt.legend(loc='lower right')\n",
    "plt.plot([0,1],[0,1],'o--')\n",
    "plt.xlim([0,1])\n",
    "plt.ylim([0,1])\n",
    "plt.ylabel('True Positive Rate')\n",
    "plt.xlabel('False Positive Rate')\n",
    "plt.show();"
   ]
  },
  {
   "cell_type": "code",
   "execution_count": 140,
   "metadata": {},
   "outputs": [
    {
     "name": "stdout",
     "output_type": "stream",
     "text": [
      "ROCR Chart\n"
     ]
    },
    {
     "data": {
      "image/png": "[encoded data removed]",
      "text/plain": [
       "<Figure size 432x288 with 1 Axes>"
      ]
     },
     "metadata": {},
     "output_type": "display_data"
    }
   ],
   "source": [
    "print(\"ROCR Chart\")\n",
    "plt.plot(fpr,tpr,label = 'AUC = %0.2f'%roc_auc2)\n",
    "plt.legend(loc='lower right')\n",
    "plt.plot([0,1],[0,1],'o--')\n",
    "plt.xlim([0,1])\n",
    "plt.ylim([0,1])\n",
    "plt.ylabel('True Positive Rate')\n",
    "plt.xlabel('False Positive Rate')\n",
    "plt.show();"
   ]
  },
  {
   "cell_type": "code",
   "execution_count": 141,
   "metadata": {},
   "outputs": [
    {
     "name": "stdout",
     "output_type": "stream",
     "text": [
      "ROCR Chart\n"
     ]
    },
    {
     "data": {
      "image/png": "[encoded data removed]",
      "text/plain": [
       "<Figure size 432x288 with 1 Axes>"
      ]
     },
     "metadata": {},
     "output_type": "display_data"
    }
   ],
   "source": [
    "print(\"ROCR Chart\")\n",
    "plt.plot(fpr,tpr,label = 'AUC = %0.2f'%roc_auc3)\n",
    "plt.legend(loc='lower right')\n",
    "plt.plot([0,1],[0,1],'o--')\n",
    "plt.xlim([0,1])\n",
    "plt.ylim([0,1])\n",
    "plt.ylabel('True Positive Rate')\n",
    "plt.xlabel('False Positive Rate')\n",
    "plt.show();"
   ]
  },
  {
   "cell_type": "code",
   "execution_count": 143,
   "metadata": {},
   "outputs": [],
   "source": [
    "cf = metrics.confusion_matrix(y_test,y_pred_gini)\n",
    "cf1 = metrics.confusion_matrix(y_test,y_pred_gini1)\n",
    "cf2 = metrics.confusion_matrix(test_y,y_pred_entropy)\n",
    "cf3 = metrics.confusion_matrix(test_y,y_pred_entropy1)\n",
    "lb1 = ['Predicted 0','Predicted 1']\n",
    "lb2 = ['True 0','True 1']"
   ]
  },
  {
   "cell_type": "code",
   "execution_count": 150,
   "metadata": {},
   "outputs": [
    {
     "data": {
      "text/plain": [
       "0    1523\n",
       "1     590\n",
       "Name: Y, dtype: int64"
      ]
     },
     "execution_count": 150,
     "metadata": {},
     "output_type": "execute_result"
    },
    {
     "data": {
      "text/plain": [
       "array([[1430,   93],\n",
       "       [ 407,  183]], dtype=int64)"
      ]
     },
     "execution_count": 150,
     "metadata": {},
     "output_type": "execute_result"
    }
   ],
   "source": [
    "y_test.value_counts()\n",
    "cf"
   ]
  },
  {
   "cell_type": "code",
   "execution_count": 155,
   "metadata": {},
   "outputs": [
    {
     "data": {
      "image/png": "[encoded data removed]",
      "text/plain": [
       "<Figure size 432x288 with 2 Axes>"
      ]
     },
     "metadata": {},
     "output_type": "display_data"
    }
   ],
   "source": [
    "sns.heatmap(cf,annot=True,cmap='Greens',fmt='d',xticklabels=lb1,yticklabels=lb2);"
   ]
  },
  {
   "cell_type": "code",
   "execution_count": 156,
   "metadata": {},
   "outputs": [
    {
     "data": {
      "image/png": "[encoded data removed]",
      "text/plain": [
       "<Figure size 432x288 with 2 Axes>"
      ]
     },
     "metadata": {},
     "output_type": "display_data"
    }
   ],
   "source": [
    "cf1\n",
    "sns.heatmap(cf1,annot=True,fmt='d',cmap='Blues',xticklabels=lb1,yticklabels=lb2);"
   ]
  },
  {
   "cell_type": "code",
   "execution_count": 158,
   "metadata": {},
   "outputs": [
    {
     "data": {
      "text/plain": [
       "array([[1340,  189],\n",
       "       [ 497,   87]], dtype=int64)"
      ]
     },
     "execution_count": 158,
     "metadata": {},
     "output_type": "execute_result"
    },
    {
     "data": {
      "text/plain": [
       "<matplotlib.axes._subplots.AxesSubplot at 0x1639885fd68>"
      ]
     },
     "execution_count": 158,
     "metadata": {},
     "output_type": "execute_result"
    },
    {
     "data": {
      "image/png": "[encoded data removed]",
      "text/plain": [
       "<Figure size 432x288 with 2 Axes>"
      ]
     },
     "metadata": {},
     "output_type": "display_data"
    }
   ],
   "source": [
    "cf2\n",
    "sns.heatmap(cf2,annot=True,fmt='d',cmap='RdGy',xticklabels=lb1,yticklabels=lb2)"
   ]
  },
  {
   "cell_type": "code",
   "execution_count": 161,
   "metadata": {},
   "outputs": [
    {
     "data": {
      "text/plain": [
       "array([[1434,   95],\n",
       "       [ 381,  203]], dtype=int64)"
      ]
     },
     "execution_count": 161,
     "metadata": {},
     "output_type": "execute_result"
    },
    {
     "data": {
      "text/plain": [
       "<matplotlib.axes._subplots.AxesSubplot at 0x163989815c0>"
      ]
     },
     "execution_count": 161,
     "metadata": {},
     "output_type": "execute_result"
    },
    {
     "data": {
      "image/png": "[encoded data removed]",
      "text/plain": [
       "<Figure size 432x288 with 2 Axes>"
      ]
     },
     "metadata": {},
     "output_type": "display_data"
    }
   ],
   "source": [
    "cf3\n",
    "sns.heatmap(cf3,annot=True,fmt='d',cmap='RdPu',xticklabels=lb1,yticklabels=lb2)"
   ]
  }
 ],
 "metadata": {
  "kernelspec": {
   "display_name": "Python 3",
   "language": "python",
   "name": "python3"
  },
  "language_info": {
   "codemirror_mode": {
    "name": "ipython",
    "version": 3
   },
   "file_extension": ".py",
   "mimetype": "text/x-python",
   "name": "python",
   "nbconvert_exporter": "python",
   "pygments_lexer": "ipython3",
   "version": "3.6.4"
  }
 },
 "nbformat": 4,
 "nbformat_minor": 2
}
